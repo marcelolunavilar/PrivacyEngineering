{
 "cells": [
  {
   "cell_type": "markdown",
   "id": "2c92f0b9-fcf6-4943-b3b7-c158d1c3c743",
   "metadata": {},
   "source": [
    "# Preamble\n",
    "\n",
    "Load necessary packages and the lab data"
   ]
  },
  {
   "cell_type": "code",
   "execution_count": 1,
   "id": "3969e648-3a78-4847-8b90-dc45e8c03f23",
   "metadata": {
    "tags": []
   },
   "outputs": [],
   "source": [
    "import pickle\n",
    "import numpy\n",
    "import pandas\n",
    "from IPython.display import Markdown\n",
    "from matplotlib import pyplot\n",
    "\n",
    "with open('Lab2.pkl', 'rb') as f:\n",
    "    Lab2_Data, synthetic_identities = pickle.load(f)"
   ]
  },
  {
   "cell_type": "markdown",
   "id": "14330f3c-55c5-4337-8cfc-9e03fa0eed8d",
   "metadata": {},
   "source": [
    "# Data Description\n",
    "\n",
    "The dataset we will be using this lab is the 2015-2016 portion of the National Health and Nutrition Examination Survey. The dataset and its documentation may be found at https://wwwn.cdc.gov/nchs/nhanes/continuousnhanes/default.aspx?BeginYear=2015.\n",
    "\n",
    "We will be using a small subset of the dataset, compiled in the variable `Lab2_Data`, which is a data frame (for documentation [click here](https://pandas.pydata.org/docs/reference/api/pandas.DataFrame.htmlhttps://pandas.pydata.org/docs/reference/api/pandas.DataFrame.html)). Here is a general description of the columns in the data frame (we use the terms **data frame** and **table** interchangeably in this lab):\n",
    "\n",
    "- `Subject_ID`: this is a sequence number, assigned uniquely to each respondent.\n",
    "- `Gender`: this is the gender of the subject. 1=Male, 2=Female.\n",
    "- `Age`: this is the age, in years, of the subject.\n",
    "- `Marital_Status`: this representes the marital status of the subject.\n",
    "| `Marital_Status` | Value Description |\n",
    "| :- | :- |\n",
    "| $1$ | Married |\n",
    "| $2$ | Widowed |\n",
    "| $3$ | Divorced |\n",
    "| $4$ | Separated |\n",
    "| $5$ | Never married |\n",
    "| $6$ | Living with partner |\n",
    "| $77$ | Refused |\n",
    "| $99$ | Don't know |\n",
    "| NaN | Missing|\n",
    "- `Country_Birth`: the country where the subject was born.<br>\n",
    "| `Country_Birth` | Value Description |\n",
    "| :- | :- |\n",
    "| $1$ | Born in 50 US states or Washington, DC |\n",
    "| $2$ | Others |\n",
    "| $77$ | Refused |\n",
    "| $99$ | Don't know |\n",
    "| NaN | Missing|\n",
    "- `Race`: the race of the subject.<br>\n",
    "| `Race` | Value Description |\n",
    "| :- | :- |\n",
    "| $1$ | Mexican American |\n",
    "| $2$ | Other Hispanic |\n",
    "| $3$ | Non-Hispanic White |\n",
    "| $4$ | Non-Hispanic Black |\n",
    "| $6$ | Non-Hispanic Asian |\n",
    "| $7$ | Other Race - Including Multi-Racial |\n",
    "| NaN | Missing |\n",
    "- `Household_Income`: the annual household income, reported as a range in US\\\\$.\n",
    "| `Household_Income` | Value Description |\n",
    "| :- | :- |\n",
    "| $1$ | \\\\$0 to \\\\$4,999 |\n",
    "| $2$ | \\\\$5,000 to \\\\$9,999 |\n",
    "| $3$ | \\\\$10,000 to \\\\$14,999 |\n",
    "| $4$ | \\\\$15,000 to \\\\$19,999 |\n",
    "| $5$ | \\\\$20,000 to \\\\$24,999 |\n",
    "| $6$ | \\\\$25,000 to \\\\$34,999 |\n",
    "| $7$ | \\\\$35,000 to \\\\$44,999 |\n",
    "| $8$ | \\\\$45,000 to \\\\$54,999 |\n",
    "| $9$ | \\\\$55,000 to \\\\$64,999 |\n",
    "| $10$ | \\\\$65,000 to \\\\$74,999 |\n",
    "| $12$ | \\\\$20,000 and Over |\n",
    "| $13$ | Under \\\\$20,000 |\n",
    "| $14$ | \\\\$75,000 to \\\\$99,999 |\n",
    "| $15$ | \\\\$100,000 and Over |\n",
    "| $77$ | Refused |\n",
    "| $99$ | Don't know |\n",
    "| NaN | Missing |\n",
    "- `Alcohol_12_or_More_Ever`: The response to the question: \"In your entire life, have you had at least 12 drinks of any type of alcoholic beverage?\"\n",
    "| `Alcohol_12_or_More_Ever` | Value Description |\n",
    "| :- | :- |\n",
    "| $1$ | Yes |\n",
    "| $2$ | No |\n",
    "| $7$ | Refused |\n",
    "| $9$ | Don't know |\n",
    "| NaN | Missing |\n",
    "- `Alcohol_Average`: The response to the question: \"In the past 12 months, on those days that you drank alcoholic beverages, on the average, how many drinks did you have? By a drink, I mean a 12 oz. beer, a 5 oz. glass of wine, or one and a half ounces of liquor.\"\n",
    "| `Alcohol_Average` | Value Description |\n",
    "| :- | :- |\n",
    "| $1$ to $14$ | Range of Values |\n",
    "| $15$ | $15$ drinks or more |\n",
    "| $777$ | Refused |\n",
    "| $999$ | Don't know |\n",
    "| NaN | Missing |\n",
    "- `EverUsed_Cocaine_Heroin_OR_Methamphetamine`: The response to the question: \"Have you ever used cocaine, crack cocaine, heroin, or methamphetamine?\"\n",
    "| `EverUsed_Cocaine_Heroin_OR_Methamphetamine` | Value Description |\n",
    "| :- | :- |\n",
    "| $1$ | Yes |\n",
    "| $2$ | No |\n",
    "| $7$ | Refused |\n",
    "| $9$ | Don't know |\n",
    "| NaN | Missing |"
   ]
  },
  {
   "cell_type": "markdown",
   "id": "cf6eac05-9970-48e0-9fff-4719b0901384",
   "metadata": {},
   "source": [
    "# Tutorial: Joining Data Frames\n",
    "\n",
    "We can join two data frames based on the values of their common attributes. There are many ways to join data frames, all of which match the rows of both data frames based on the values of the common columns.\n",
    "\n",
    "To demonstrate some of these ways, we start by introducing two data frames:"
   ]
  },
  {
   "cell_type": "code",
   "execution_count": 2,
   "id": "0faf71b1-51b2-42aa-9731-cc5163324946",
   "metadata": {},
   "outputs": [
    {
     "data": {
      "text/html": [
       "<div>\n",
       "<style scoped>\n",
       "    .dataframe tbody tr th:only-of-type {\n",
       "        vertical-align: middle;\n",
       "    }\n",
       "\n",
       "    .dataframe tbody tr th {\n",
       "        vertical-align: top;\n",
       "    }\n",
       "\n",
       "    .dataframe thead th {\n",
       "        text-align: right;\n",
       "    }\n",
       "</style>\n",
       "<table border=\"1\" class=\"dataframe\">\n",
       "  <thead>\n",
       "    <tr style=\"text-align: right;\">\n",
       "      <th></th>\n",
       "      <th>Common_Column</th>\n",
       "      <th>Other_Column_1</th>\n",
       "      <th>Other_Column_2</th>\n",
       "    </tr>\n",
       "  </thead>\n",
       "  <tbody>\n",
       "    <tr>\n",
       "      <th>0</th>\n",
       "      <td>1.0</td>\n",
       "      <td>100</td>\n",
       "      <td>10</td>\n",
       "    </tr>\n",
       "    <tr>\n",
       "      <th>1</th>\n",
       "      <td>2.0</td>\n",
       "      <td>200</td>\n",
       "      <td>20</td>\n",
       "    </tr>\n",
       "    <tr>\n",
       "      <th>2</th>\n",
       "      <td>2.0</td>\n",
       "      <td>300</td>\n",
       "      <td>30</td>\n",
       "    </tr>\n",
       "    <tr>\n",
       "      <th>3</th>\n",
       "      <td>4.0</td>\n",
       "      <td>400</td>\n",
       "      <td>40</td>\n",
       "    </tr>\n",
       "    <tr>\n",
       "      <th>4</th>\n",
       "      <td>NaN</td>\n",
       "      <td>500</td>\n",
       "      <td>50</td>\n",
       "    </tr>\n",
       "    <tr>\n",
       "      <th>5</th>\n",
       "      <td>5.0</td>\n",
       "      <td>600</td>\n",
       "      <td>60</td>\n",
       "    </tr>\n",
       "  </tbody>\n",
       "</table>\n",
       "</div>"
      ],
      "text/plain": [
       "   Common_Column  Other_Column_1  Other_Column_2\n",
       "0            1.0             100              10\n",
       "1            2.0             200              20\n",
       "2            2.0             300              30\n",
       "3            4.0             400              40\n",
       "4            NaN             500              50\n",
       "5            5.0             600              60"
      ]
     },
     "metadata": {},
     "output_type": "display_data"
    }
   ],
   "source": [
    "table_1 = pandas.DataFrame()\n",
    "table_1[\"Common_Column\"] = [1, 2, 2, 4, numpy.NaN, 5]\n",
    "table_1[\"Other_Column_1\"] = [100, 200, 300, 400, 500, 600]\n",
    "table_1[\"Other_Column_2\"] = [10, 20, 30, 40, 50, 60]\n",
    "\n",
    "display(table_1)"
   ]
  },
  {
   "cell_type": "code",
   "execution_count": 3,
   "id": "92cb87b3-15fa-4ef0-b2b0-151a744dcb84",
   "metadata": {},
   "outputs": [
    {
     "data": {
      "text/html": [
       "<div>\n",
       "<style scoped>\n",
       "    .dataframe tbody tr th:only-of-type {\n",
       "        vertical-align: middle;\n",
       "    }\n",
       "\n",
       "    .dataframe tbody tr th {\n",
       "        vertical-align: top;\n",
       "    }\n",
       "\n",
       "    .dataframe thead th {\n",
       "        text-align: right;\n",
       "    }\n",
       "</style>\n",
       "<table border=\"1\" class=\"dataframe\">\n",
       "  <thead>\n",
       "    <tr style=\"text-align: right;\">\n",
       "      <th></th>\n",
       "      <th>Common_Column</th>\n",
       "      <th>Other_Column_3</th>\n",
       "      <th>Other_Column_4</th>\n",
       "    </tr>\n",
       "  </thead>\n",
       "  <tbody>\n",
       "    <tr>\n",
       "      <th>0</th>\n",
       "      <td>1.0</td>\n",
       "      <td>a</td>\n",
       "      <td>10.0</td>\n",
       "    </tr>\n",
       "    <tr>\n",
       "      <th>1</th>\n",
       "      <td>1.0</td>\n",
       "      <td>b</td>\n",
       "      <td>20.0</td>\n",
       "    </tr>\n",
       "    <tr>\n",
       "      <th>2</th>\n",
       "      <td>NaN</td>\n",
       "      <td>c</td>\n",
       "      <td>30.0</td>\n",
       "    </tr>\n",
       "    <tr>\n",
       "      <th>3</th>\n",
       "      <td>2.0</td>\n",
       "      <td>d</td>\n",
       "      <td>NaN</td>\n",
       "    </tr>\n",
       "    <tr>\n",
       "      <th>4</th>\n",
       "      <td>4.0</td>\n",
       "      <td>e</td>\n",
       "      <td>50.0</td>\n",
       "    </tr>\n",
       "    <tr>\n",
       "      <th>5</th>\n",
       "      <td>6.0</td>\n",
       "      <td>f</td>\n",
       "      <td>60.0</td>\n",
       "    </tr>\n",
       "    <tr>\n",
       "      <th>6</th>\n",
       "      <td>NaN</td>\n",
       "      <td>g</td>\n",
       "      <td>70.0</td>\n",
       "    </tr>\n",
       "  </tbody>\n",
       "</table>\n",
       "</div>"
      ],
      "text/plain": [
       "   Common_Column Other_Column_3  Other_Column_4\n",
       "0            1.0              a            10.0\n",
       "1            1.0              b            20.0\n",
       "2            NaN              c            30.0\n",
       "3            2.0              d             NaN\n",
       "4            4.0              e            50.0\n",
       "5            6.0              f            60.0\n",
       "6            NaN              g            70.0"
      ]
     },
     "metadata": {},
     "output_type": "display_data"
    }
   ],
   "source": [
    "table_2 = pandas.DataFrame()\n",
    "\n",
    "table_2[\"Common_Column\"] = [1, 1, numpy.NaN, 2, 4, 6, numpy.NaN]\n",
    "table_2[\"Other_Column_3\"] = ['a', 'b', 'c', 'd', 'e', 'f', 'g']\n",
    "table_2[\"Other_Column_4\"] = [10, 20, 30, numpy.NaN, 50, 60, 70]\n",
    "\n",
    "display(table_2)"
   ]
  },
  {
   "cell_type": "markdown",
   "id": "1a7c8aa4-5b5a-4285-9ba7-2210c45a40b6",
   "metadata": {},
   "source": [
    "Note that both data frames have the column `Common_Column` in common (note that joins can handle multiple common columns, as we will see in this lab).\n",
    "\n",
    "## Inner Join\n",
    "\n",
    "Inner joins outputs only rows from both data frames that agree on the values of the common columns. By default, the inner join output will include the values of the common columns in addition to all other columns that appear in either table.\n",
    "\n",
    "For example:"
   ]
  },
  {
   "cell_type": "code",
   "execution_count": 4,
   "id": "a4af44f2-324f-4a9d-b6d3-d678cf665422",
   "metadata": {},
   "outputs": [
    {
     "data": {
      "text/html": [
       "<div>\n",
       "<style scoped>\n",
       "    .dataframe tbody tr th:only-of-type {\n",
       "        vertical-align: middle;\n",
       "    }\n",
       "\n",
       "    .dataframe tbody tr th {\n",
       "        vertical-align: top;\n",
       "    }\n",
       "\n",
       "    .dataframe thead th {\n",
       "        text-align: right;\n",
       "    }\n",
       "</style>\n",
       "<table border=\"1\" class=\"dataframe\">\n",
       "  <thead>\n",
       "    <tr style=\"text-align: right;\">\n",
       "      <th></th>\n",
       "      <th>Common_Column</th>\n",
       "      <th>Other_Column_1</th>\n",
       "      <th>Other_Column_2</th>\n",
       "      <th>Other_Column_3</th>\n",
       "      <th>Other_Column_4</th>\n",
       "    </tr>\n",
       "  </thead>\n",
       "  <tbody>\n",
       "    <tr>\n",
       "      <th>0</th>\n",
       "      <td>1.0</td>\n",
       "      <td>100</td>\n",
       "      <td>10</td>\n",
       "      <td>a</td>\n",
       "      <td>10.0</td>\n",
       "    </tr>\n",
       "    <tr>\n",
       "      <th>1</th>\n",
       "      <td>1.0</td>\n",
       "      <td>100</td>\n",
       "      <td>10</td>\n",
       "      <td>b</td>\n",
       "      <td>20.0</td>\n",
       "    </tr>\n",
       "    <tr>\n",
       "      <th>2</th>\n",
       "      <td>2.0</td>\n",
       "      <td>200</td>\n",
       "      <td>20</td>\n",
       "      <td>d</td>\n",
       "      <td>NaN</td>\n",
       "    </tr>\n",
       "    <tr>\n",
       "      <th>3</th>\n",
       "      <td>2.0</td>\n",
       "      <td>300</td>\n",
       "      <td>30</td>\n",
       "      <td>d</td>\n",
       "      <td>NaN</td>\n",
       "    </tr>\n",
       "    <tr>\n",
       "      <th>4</th>\n",
       "      <td>4.0</td>\n",
       "      <td>400</td>\n",
       "      <td>40</td>\n",
       "      <td>e</td>\n",
       "      <td>50.0</td>\n",
       "    </tr>\n",
       "    <tr>\n",
       "      <th>5</th>\n",
       "      <td>NaN</td>\n",
       "      <td>500</td>\n",
       "      <td>50</td>\n",
       "      <td>c</td>\n",
       "      <td>30.0</td>\n",
       "    </tr>\n",
       "    <tr>\n",
       "      <th>6</th>\n",
       "      <td>NaN</td>\n",
       "      <td>500</td>\n",
       "      <td>50</td>\n",
       "      <td>g</td>\n",
       "      <td>70.0</td>\n",
       "    </tr>\n",
       "  </tbody>\n",
       "</table>\n",
       "</div>"
      ],
      "text/plain": [
       "   Common_Column  Other_Column_1  Other_Column_2 Other_Column_3  \\\n",
       "0            1.0             100              10              a   \n",
       "1            1.0             100              10              b   \n",
       "2            2.0             200              20              d   \n",
       "3            2.0             300              30              d   \n",
       "4            4.0             400              40              e   \n",
       "5            NaN             500              50              c   \n",
       "6            NaN             500              50              g   \n",
       "\n",
       "   Other_Column_4  \n",
       "0            10.0  \n",
       "1            20.0  \n",
       "2             NaN  \n",
       "3             NaN  \n",
       "4            50.0  \n",
       "5            30.0  \n",
       "6            70.0  "
      ]
     },
     "metadata": {},
     "output_type": "display_data"
    }
   ],
   "source": [
    "ijoin_1_2 = table_1.merge(table_2)\n",
    "display(ijoin_1_2)"
   ]
  },
  {
   "cell_type": "markdown",
   "id": "0f1693ad-85a3-4fc9-bef6-35911ae6b018",
   "metadata": {},
   "source": [
    "The building of each row in the output table has to include values from *both* tables. In other words, each row in the inner join can be projected back onto a row in each of the two original tables.\n",
    "\n",
    "**Important:** Note that `pandas` joins data frames with common column value `NaN` as matching values (which is considered incorrect behavior). The correct behavior is that `NaN` values should *not* match in the common columns. To fix this, we can drop rows with `NaN` values in the common columns from one of the tables.\n",
    "\n",
    "For example:"
   ]
  },
  {
   "cell_type": "code",
   "execution_count": 5,
   "id": "d61c200f-035d-4a9f-887e-534855314bc2",
   "metadata": {},
   "outputs": [
    {
     "data": {
      "text/html": [
       "<div>\n",
       "<style scoped>\n",
       "    .dataframe tbody tr th:only-of-type {\n",
       "        vertical-align: middle;\n",
       "    }\n",
       "\n",
       "    .dataframe tbody tr th {\n",
       "        vertical-align: top;\n",
       "    }\n",
       "\n",
       "    .dataframe thead th {\n",
       "        text-align: right;\n",
       "    }\n",
       "</style>\n",
       "<table border=\"1\" class=\"dataframe\">\n",
       "  <thead>\n",
       "    <tr style=\"text-align: right;\">\n",
       "      <th></th>\n",
       "      <th>Common_Column</th>\n",
       "      <th>Other_Column_1</th>\n",
       "      <th>Other_Column_2</th>\n",
       "      <th>Other_Column_3</th>\n",
       "      <th>Other_Column_4</th>\n",
       "    </tr>\n",
       "  </thead>\n",
       "  <tbody>\n",
       "    <tr>\n",
       "      <th>0</th>\n",
       "      <td>1.0</td>\n",
       "      <td>100</td>\n",
       "      <td>10</td>\n",
       "      <td>a</td>\n",
       "      <td>10.0</td>\n",
       "    </tr>\n",
       "    <tr>\n",
       "      <th>1</th>\n",
       "      <td>1.0</td>\n",
       "      <td>100</td>\n",
       "      <td>10</td>\n",
       "      <td>b</td>\n",
       "      <td>20.0</td>\n",
       "    </tr>\n",
       "    <tr>\n",
       "      <th>2</th>\n",
       "      <td>2.0</td>\n",
       "      <td>200</td>\n",
       "      <td>20</td>\n",
       "      <td>d</td>\n",
       "      <td>NaN</td>\n",
       "    </tr>\n",
       "    <tr>\n",
       "      <th>3</th>\n",
       "      <td>2.0</td>\n",
       "      <td>300</td>\n",
       "      <td>30</td>\n",
       "      <td>d</td>\n",
       "      <td>NaN</td>\n",
       "    </tr>\n",
       "    <tr>\n",
       "      <th>4</th>\n",
       "      <td>4.0</td>\n",
       "      <td>400</td>\n",
       "      <td>40</td>\n",
       "      <td>e</td>\n",
       "      <td>50.0</td>\n",
       "    </tr>\n",
       "  </tbody>\n",
       "</table>\n",
       "</div>"
      ],
      "text/plain": [
       "   Common_Column  Other_Column_1  Other_Column_2 Other_Column_3  \\\n",
       "0            1.0             100              10              a   \n",
       "1            1.0             100              10              b   \n",
       "2            2.0             200              20              d   \n",
       "3            2.0             300              30              d   \n",
       "4            4.0             400              40              e   \n",
       "\n",
       "   Other_Column_4  \n",
       "0            10.0  \n",
       "1            20.0  \n",
       "2             NaN  \n",
       "3             NaN  \n",
       "4            50.0  "
      ]
     },
     "metadata": {},
     "output_type": "display_data"
    }
   ],
   "source": [
    "correct_ijoin_1_2 = table_1.dropna(subset=\"Common_Column\").merge(table_2)\n",
    "display(correct_ijoin_1_2)"
   ]
  },
  {
   "attachments": {
    "49496095-c3e9-4375-8199-3c3a1362bb49.png": {
     "image/png": "[encoded data removed]"
    }
   },
   "cell_type": "markdown",
   "id": "86b4c802-bd83-473f-831d-447b4262b34b",
   "metadata": {},
   "source": [
    "In a visual way, the inner join returns the \"inner\" part of the Venn diagram of the two tables:\n",
    "\n",
    "![VennDiagram_In_smaller.png](attachment:49496095-c3e9-4375-8199-3c3a1362bb49.png)"
   ]
  },
  {
   "cell_type": "markdown",
   "id": "2b190d2a-1f29-41cd-8852-8ef497bee865",
   "metadata": {},
   "source": [
    "## Left Outer Join\n",
    "\n",
    "In left outer joins, every row from the left table is represented in the output. Any row that matches (on the values of the common columns) it from the right table is joined with it in the result just like in inner joins. Additionally, if there is a row from the left table that doesn't match any row from the right table, then that row is represented in the output, with the values for the non-common columns from the right table all filled as `NaN`. Here's an example, in which the row with `Common_Column=5.0` (from `table_1`) is in the result of the left join with `Other_Column_3` and `Other_Column_4` values filled as `NaN`:"
   ]
  },
  {
   "cell_type": "code",
   "execution_count": 6,
   "id": "624a403f-47ac-401a-af36-fa00285257e2",
   "metadata": {},
   "outputs": [
    {
     "data": {
      "text/html": [
       "<div>\n",
       "<style scoped>\n",
       "    .dataframe tbody tr th:only-of-type {\n",
       "        vertical-align: middle;\n",
       "    }\n",
       "\n",
       "    .dataframe tbody tr th {\n",
       "        vertical-align: top;\n",
       "    }\n",
       "\n",
       "    .dataframe thead th {\n",
       "        text-align: right;\n",
       "    }\n",
       "</style>\n",
       "<table border=\"1\" class=\"dataframe\">\n",
       "  <thead>\n",
       "    <tr style=\"text-align: right;\">\n",
       "      <th></th>\n",
       "      <th>Common_Column</th>\n",
       "      <th>Other_Column_1</th>\n",
       "      <th>Other_Column_2</th>\n",
       "      <th>Other_Column_3</th>\n",
       "      <th>Other_Column_4</th>\n",
       "    </tr>\n",
       "  </thead>\n",
       "  <tbody>\n",
       "    <tr>\n",
       "      <th>0</th>\n",
       "      <td>1.0</td>\n",
       "      <td>100</td>\n",
       "      <td>10</td>\n",
       "      <td>a</td>\n",
       "      <td>10.0</td>\n",
       "    </tr>\n",
       "    <tr>\n",
       "      <th>1</th>\n",
       "      <td>1.0</td>\n",
       "      <td>100</td>\n",
       "      <td>10</td>\n",
       "      <td>b</td>\n",
       "      <td>20.0</td>\n",
       "    </tr>\n",
       "    <tr>\n",
       "      <th>2</th>\n",
       "      <td>2.0</td>\n",
       "      <td>200</td>\n",
       "      <td>20</td>\n",
       "      <td>d</td>\n",
       "      <td>NaN</td>\n",
       "    </tr>\n",
       "    <tr>\n",
       "      <th>3</th>\n",
       "      <td>2.0</td>\n",
       "      <td>300</td>\n",
       "      <td>30</td>\n",
       "      <td>d</td>\n",
       "      <td>NaN</td>\n",
       "    </tr>\n",
       "    <tr>\n",
       "      <th>4</th>\n",
       "      <td>4.0</td>\n",
       "      <td>400</td>\n",
       "      <td>40</td>\n",
       "      <td>e</td>\n",
       "      <td>50.0</td>\n",
       "    </tr>\n",
       "    <tr>\n",
       "      <th>5</th>\n",
       "      <td>5.0</td>\n",
       "      <td>600</td>\n",
       "      <td>60</td>\n",
       "      <td>NaN</td>\n",
       "      <td>NaN</td>\n",
       "    </tr>\n",
       "  </tbody>\n",
       "</table>\n",
       "</div>"
      ],
      "text/plain": [
       "   Common_Column  Other_Column_1  Other_Column_2 Other_Column_3  \\\n",
       "0            1.0             100              10              a   \n",
       "1            1.0             100              10              b   \n",
       "2            2.0             200              20              d   \n",
       "3            2.0             300              30              d   \n",
       "4            4.0             400              40              e   \n",
       "5            5.0             600              60            NaN   \n",
       "\n",
       "   Other_Column_4  \n",
       "0            10.0  \n",
       "1            20.0  \n",
       "2             NaN  \n",
       "3             NaN  \n",
       "4            50.0  \n",
       "5             NaN  "
      ]
     },
     "metadata": {},
     "output_type": "display_data"
    }
   ],
   "source": [
    "lojoin_1_2 = table_1.dropna(subset=\"Common_Column\").merge(table_2, how='left')\n",
    "display(lojoin_1_2)"
   ]
  },
  {
   "attachments": {
    "1e11c6e7-b39d-4f31-8470-81ad3d3a109f.png": {
     "image/png": "[encoded data removed]"
    }
   },
   "cell_type": "markdown",
   "id": "7c6664f8-bf6e-4e10-966c-25a9f5b0c028",
   "metadata": {},
   "source": [
    "Note here that `NaN` values in the common columns would still be incorrectly matched to other `NaN` values (therefore, we still would `.dropna()` over the common column from the **left** table).\n",
    "\n",
    "Visually, left outer joins are the left part of the Venn diagram:\n",
    "\n",
    "![VennDiagram_LO_smaller.png](attachment:1e11c6e7-b39d-4f31-8470-81ad3d3a109f.png)\n",
    "\n",
    "Where the common part represents rows that are matched in both tables, and the rest represents rows in the left table but not the right one.\n",
    "\n",
    "\n",
    "## Right Outer Join\n",
    "\n",
    "In right outer joins, every row from the right table is represented in the output. Any row that matches (on the values of the common columns) it from the left table is joined with it in the result just like in inner joins. Additionally, if there is a row from the right table that doesn't match any row from the left table, then that row is represented in the output, with the values for the non-common columns from the left table all filled as `NaN`. Here's an example, in which the row with `Common_Column=6.0` (from `table_2`) is in the result of the left join with `Other_Column_1` and `Other_Column_2` values filled as `NaN`:"
   ]
  },
  {
   "cell_type": "code",
   "execution_count": 7,
   "id": "a690f466-f72a-4874-baaf-5795d96b1297",
   "metadata": {},
   "outputs": [
    {
     "data": {
      "text/html": [
       "<div>\n",
       "<style scoped>\n",
       "    .dataframe tbody tr th:only-of-type {\n",
       "        vertical-align: middle;\n",
       "    }\n",
       "\n",
       "    .dataframe tbody tr th {\n",
       "        vertical-align: top;\n",
       "    }\n",
       "\n",
       "    .dataframe thead th {\n",
       "        text-align: right;\n",
       "    }\n",
       "</style>\n",
       "<table border=\"1\" class=\"dataframe\">\n",
       "  <thead>\n",
       "    <tr style=\"text-align: right;\">\n",
       "      <th></th>\n",
       "      <th>Common_Column</th>\n",
       "      <th>Other_Column_1</th>\n",
       "      <th>Other_Column_2</th>\n",
       "      <th>Other_Column_3</th>\n",
       "      <th>Other_Column_4</th>\n",
       "    </tr>\n",
       "  </thead>\n",
       "  <tbody>\n",
       "    <tr>\n",
       "      <th>0</th>\n",
       "      <td>1.0</td>\n",
       "      <td>100.0</td>\n",
       "      <td>10.0</td>\n",
       "      <td>a</td>\n",
       "      <td>10.0</td>\n",
       "    </tr>\n",
       "    <tr>\n",
       "      <th>1</th>\n",
       "      <td>1.0</td>\n",
       "      <td>100.0</td>\n",
       "      <td>10.0</td>\n",
       "      <td>b</td>\n",
       "      <td>20.0</td>\n",
       "    </tr>\n",
       "    <tr>\n",
       "      <th>2</th>\n",
       "      <td>2.0</td>\n",
       "      <td>200.0</td>\n",
       "      <td>20.0</td>\n",
       "      <td>d</td>\n",
       "      <td>NaN</td>\n",
       "    </tr>\n",
       "    <tr>\n",
       "      <th>3</th>\n",
       "      <td>2.0</td>\n",
       "      <td>300.0</td>\n",
       "      <td>30.0</td>\n",
       "      <td>d</td>\n",
       "      <td>NaN</td>\n",
       "    </tr>\n",
       "    <tr>\n",
       "      <th>4</th>\n",
       "      <td>4.0</td>\n",
       "      <td>400.0</td>\n",
       "      <td>40.0</td>\n",
       "      <td>e</td>\n",
       "      <td>50.0</td>\n",
       "    </tr>\n",
       "    <tr>\n",
       "      <th>5</th>\n",
       "      <td>6.0</td>\n",
       "      <td>NaN</td>\n",
       "      <td>NaN</td>\n",
       "      <td>f</td>\n",
       "      <td>60.0</td>\n",
       "    </tr>\n",
       "  </tbody>\n",
       "</table>\n",
       "</div>"
      ],
      "text/plain": [
       "   Common_Column  Other_Column_1  Other_Column_2 Other_Column_3  \\\n",
       "0            1.0           100.0            10.0              a   \n",
       "1            1.0           100.0            10.0              b   \n",
       "2            2.0           200.0            20.0              d   \n",
       "3            2.0           300.0            30.0              d   \n",
       "4            4.0           400.0            40.0              e   \n",
       "5            6.0             NaN             NaN              f   \n",
       "\n",
       "   Other_Column_4  \n",
       "0            10.0  \n",
       "1            20.0  \n",
       "2             NaN  \n",
       "3             NaN  \n",
       "4            50.0  \n",
       "5            60.0  "
      ]
     },
     "metadata": {},
     "output_type": "display_data"
    }
   ],
   "source": [
    "rojoin_1_2 = table_1.merge(table_2.dropna(subset=\"Common_Column\"), how='right')\n",
    "display(rojoin_1_2)"
   ]
  },
  {
   "attachments": {
    "03c99d06-5aef-4913-bf29-cf322fd1dca3.png": {
     "image/png": "[encoded data removed]"
    }
   },
   "cell_type": "markdown",
   "id": "8556647f-9a7f-4d0c-8b35-10a67f567e81",
   "metadata": {},
   "source": [
    "Note here that `NaN` values in the common columns would still be incorrectly matched to other `NaN` values (therefore, we still would `.dropna()` over the common column in the **right** table).\n",
    "\n",
    "Visually, right outer joins are the right part of the Venn diagram:\n",
    "\n",
    "![VennDiagram_RO_smaller.png](attachment:03c99d06-5aef-4913-bf29-cf322fd1dca3.png)\n",
    "\n",
    "Where the common part represents rows that are matched in both tables, and the rest represents rows in the right table but not the left one.\n",
    "\n",
    "## Full Outer Join\n",
    "\n",
    "Full outer joins is the \"full picture.\" Any row from the left of the right is going to be represented in the result. If rows match from the left and right, then they are joined as we've seen before. If a row from one side cannot be matched with another row from the other side, then the row is in the result with the values for the other attributes set to `NaN` as discussed earlier.\n",
    "\n",
    "For example:"
   ]
  },
  {
   "cell_type": "code",
   "execution_count": 8,
   "id": "4b0e44e4-1048-4394-9c05-8557a79d0033",
   "metadata": {},
   "outputs": [
    {
     "data": {
      "text/html": [
       "<div>\n",
       "<style scoped>\n",
       "    .dataframe tbody tr th:only-of-type {\n",
       "        vertical-align: middle;\n",
       "    }\n",
       "\n",
       "    .dataframe tbody tr th {\n",
       "        vertical-align: top;\n",
       "    }\n",
       "\n",
       "    .dataframe thead th {\n",
       "        text-align: right;\n",
       "    }\n",
       "</style>\n",
       "<table border=\"1\" class=\"dataframe\">\n",
       "  <thead>\n",
       "    <tr style=\"text-align: right;\">\n",
       "      <th></th>\n",
       "      <th>Common_Column</th>\n",
       "      <th>Other_Column_1</th>\n",
       "      <th>Other_Column_2</th>\n",
       "      <th>Other_Column_3</th>\n",
       "      <th>Other_Column_4</th>\n",
       "    </tr>\n",
       "  </thead>\n",
       "  <tbody>\n",
       "    <tr>\n",
       "      <th>0</th>\n",
       "      <td>1.0</td>\n",
       "      <td>100.0</td>\n",
       "      <td>10.0</td>\n",
       "      <td>a</td>\n",
       "      <td>10.0</td>\n",
       "    </tr>\n",
       "    <tr>\n",
       "      <th>1</th>\n",
       "      <td>1.0</td>\n",
       "      <td>100.0</td>\n",
       "      <td>10.0</td>\n",
       "      <td>b</td>\n",
       "      <td>20.0</td>\n",
       "    </tr>\n",
       "    <tr>\n",
       "      <th>2</th>\n",
       "      <td>2.0</td>\n",
       "      <td>200.0</td>\n",
       "      <td>20.0</td>\n",
       "      <td>d</td>\n",
       "      <td>NaN</td>\n",
       "    </tr>\n",
       "    <tr>\n",
       "      <th>3</th>\n",
       "      <td>2.0</td>\n",
       "      <td>300.0</td>\n",
       "      <td>30.0</td>\n",
       "      <td>d</td>\n",
       "      <td>NaN</td>\n",
       "    </tr>\n",
       "    <tr>\n",
       "      <th>4</th>\n",
       "      <td>4.0</td>\n",
       "      <td>400.0</td>\n",
       "      <td>40.0</td>\n",
       "      <td>e</td>\n",
       "      <td>50.0</td>\n",
       "    </tr>\n",
       "    <tr>\n",
       "      <th>5</th>\n",
       "      <td>5.0</td>\n",
       "      <td>600.0</td>\n",
       "      <td>60.0</td>\n",
       "      <td>NaN</td>\n",
       "      <td>NaN</td>\n",
       "    </tr>\n",
       "    <tr>\n",
       "      <th>6</th>\n",
       "      <td>6.0</td>\n",
       "      <td>NaN</td>\n",
       "      <td>NaN</td>\n",
       "      <td>f</td>\n",
       "      <td>60.0</td>\n",
       "    </tr>\n",
       "  </tbody>\n",
       "</table>\n",
       "</div>"
      ],
      "text/plain": [
       "   Common_Column  Other_Column_1  Other_Column_2 Other_Column_3  \\\n",
       "0            1.0           100.0            10.0              a   \n",
       "1            1.0           100.0            10.0              b   \n",
       "2            2.0           200.0            20.0              d   \n",
       "3            2.0           300.0            30.0              d   \n",
       "4            4.0           400.0            40.0              e   \n",
       "5            5.0           600.0            60.0            NaN   \n",
       "6            6.0             NaN             NaN              f   \n",
       "\n",
       "   Other_Column_4  \n",
       "0            10.0  \n",
       "1            20.0  \n",
       "2             NaN  \n",
       "3             NaN  \n",
       "4            50.0  \n",
       "5             NaN  \n",
       "6            60.0  "
      ]
     },
     "metadata": {},
     "output_type": "display_data"
    }
   ],
   "source": [
    "ojoin_1_2 = table_1.dropna(subset=\"Common_Column\").merge(table_2.dropna(subset=\"Common_Column\"), how=\"outer\")\n",
    "display(ojoin_1_2)"
   ]
  },
  {
   "attachments": {
    "55b95021-2157-484f-b5ad-85b86879950d.png": {
     "image/png": "[encoded data removed]"
    }
   },
   "cell_type": "markdown",
   "id": "71e618a6-3e54-476f-9d8e-8748d6d79b02",
   "metadata": {},
   "source": [
    "Note here that `NaN` values in the common columns would still be incorrectly matched to other `NaN` values (therefore, we still would `.dropna()` over the common column in the both tables).\n",
    "\n",
    "Visually, full outer joins are the full Venn diagram:\n",
    "\n",
    "![VennDiagram_FO_smaller.png](attachment:55b95021-2157-484f-b5ad-85b86879950d.png)"
   ]
  },
  {
   "cell_type": "markdown",
   "id": "fff7ed07-26a6-42a8-b8fe-65be5d8ea757",
   "metadata": {},
   "source": [
    "# Problem 1\n",
    "\n",
    "In this problem we will investigate k-anonymity.\n",
    "\n",
    "## (a) Equivalence Classes\n",
    "\n",
    "In this part, we will write code that enables us to find all possible equivalence classes from a given table and a set of columns constituting a set of quasi-identifiers. Consider the following list that contains the names of attributes from the data that we consider to be quasi-identifiers:\n",
    "\n",
    "```python\n",
    "qID = ['Gender', 'Race']\n",
    "```\n",
    "\n",
    "Write code that creates a data frame `p1a_eqv_classes` that is a projection of the original table `Lab2_Data` on the set of quasi-identifiers qID, and contains exactly one row per combination of values for the quasi-identifier attributes.\n",
    "\n",
    "In other words, the variable `p1a_eqv_classes` should describe the equivalence classes in the original data (i.e. without repititions).\n",
    "\n",
    "**Hint**: the function **[`DataFrame.drop_duplicates()`](https://pandas.pydata.org/docs/reference/api/pandas.DataFrame.drop_duplicates.html)** can take a data frame and return unique rows.\n",
    "\n",
    "Replace the following code snippet with your answer:"
   ]
  },
  {
   "cell_type": "code",
   "execution_count": null,
   "id": "ecdb3ce1-83e5-4b18-83ec-4675bdb43fe9",
   "metadata": {},
   "outputs": [],
   "source": [
    "# The QIDs\n",
    "qID = ['Gender', 'Race']\n",
    "\n",
    "raise Exception(\"Missing answer to 1(a)\")"
   ]
  },
  {
   "cell_type": "markdown",
   "id": "2f3fd7b6-e86b-4a65-8d71-816412efe879",
   "metadata": {},
   "source": [
    "Run the following cell to print the outcomes of your code."
   ]
  },
  {
   "cell_type": "code",
   "execution_count": null,
   "id": "5d62ea40-285d-4172-ad88-3cabafbcac05",
   "metadata": {
    "tags": [
     "hide-input",
     "remove-input"
    ]
   },
   "outputs": [],
   "source": [
    "display(Markdown(f\"There are {len(p1a_eqv_classes)} equivalence classes:\"))\n",
    "display(p1a_eqv_classes)"
   ]
  },
  {
   "cell_type": "markdown",
   "id": "7fec7f6e-0212-4d01-baa9-e70ab86652db",
   "metadata": {},
   "source": [
    "--- \n",
    "\n",
    "## (b) k?\n",
    "\n",
    "In this part, we will write code that calculates, for each equivalence class, the number of records/rows in the original data that belong to that equivalence class (i.e., the $k$-Anonymity value for that equivalence class).\n",
    "\n",
    "Write code that creates the following variables:\n",
    "\n",
    "- `p1b_eqv_classes`: A data frame that is similar to `p1a_eqv_classes` from the previous part. In this data frame, populate a new column named `k` and assigns to it the number of rows in `Lab2_Data` that belong to each corresponding equivalence class.\n",
    "- `p1b_k`: Using the new column `k` in `p1b_eqv_classes`, calculate the best $k$-anonymity guarantee we can give on the table `Lab2_Data`, assuming `qID` as quasi-identifiers.\n",
    "\n",
    "Complete the following code snippet with your answer:"
   ]
  },
  {
   "cell_type": "code",
   "execution_count": null,
   "id": "44eed8f8-5708-4924-92a7-b8dc9c6cc68d",
   "metadata": {},
   "outputs": [],
   "source": [
    "# The QIDs\n",
    "qID = [\"Gender\", \"Race\"]\n",
    "\n",
    "raise Exception(\"Missing answer to 1(b)\")"
   ]
  },
  {
   "cell_type": "markdown",
   "id": "1cf992d5-d627-431a-98d7-fac7184960c5",
   "metadata": {},
   "source": [
    "Run the following cell to print the outcomes of your code."
   ]
  },
  {
   "cell_type": "code",
   "execution_count": null,
   "id": "4d27ed5e-8d64-4fc8-bbef-d796a6fc06c2",
   "metadata": {},
   "outputs": [],
   "source": [
    "display(Markdown(f\"There are {len(p1b_eqv_classes)} equivalence classes:\"))\n",
    "display(p1b_eqv_classes)\n",
    "display(Markdown(f\"The best $k$-Anonymity guarantee for `Lab2_Data` is {p1b_k}.\"))"
   ]
  },
  {
   "cell_type": "markdown",
   "id": "149eff87-1983-420f-8bc6-c3a0adb59c82",
   "metadata": {},
   "source": [
    "---\n",
    "\n",
    "## (c) Implement k-Anonymity Analyzer\n",
    "\n",
    "In this part, we will enclose the code you wrote in the last two parts into the function `kAnonymity_Analyze()`. Complete the implementation of the function `kAnonymity_Analyze` below.\n",
    "\n",
    "The function `kAnonymity_Analyze` takes two arguments:\n",
    "- `data`: the data frame to be analyzed; and\n",
    "- `qID`: a list containing the names of the columns that constitute the set of quasi-identifiers.\n",
    "\n",
    "The function `kAnonymity_Analyze` should return two outputs:\n",
    "- `k`: the best value $k$ that the table `data` (input argument) satisfies $k$-Anonymity with, with respect to the set of quasi-identifiers `qID` (input argument).\n",
    "- `equivalence_classes`: a table of equivalence classes in the same format as part (b) of this problem (including the column `k`).\n",
    "\n",
    "Complete the following code snippet with your answer:"
   ]
  },
  {
   "cell_type": "code",
   "execution_count": null,
   "id": "4641bad0-adf6-4f94-97d9-724bca773e1a",
   "metadata": {},
   "outputs": [],
   "source": [
    "raise Exception(\"Missing answer to 1(c)\")"
   ]
  },
  {
   "cell_type": "markdown",
   "id": "a872be3a-b2ba-41dc-aed0-5b8a13e0c926",
   "metadata": {},
   "source": [
    "For instance, after you implement the function `kAnonymity_Analyze`, the following code should yield the same outcomes as in the part (b) of this problem.\n",
    " \n",
    "Run the following cell to print the outcomes of your code."
   ]
  },
  {
   "cell_type": "code",
   "execution_count": null,
   "id": "dd8fb24b-b2b7-49fc-ba50-3414e6c42780",
   "metadata": {},
   "outputs": [],
   "source": [
    "p1c_k, p1c_eqv_classes = kAnonymity_Analyze(Lab2_Data, [\"Gender\", \"Race\"])\n",
    "display(Markdown(f\"Using the function call, there are {len(p1c_eqv_classes)} equivalence classes:\"))\n",
    "display(p1c_eqv_classes)\n",
    "display(Markdown(f\"The best $k$-Anonymity guarantee for `Lab2_Data` is {p1c_k}.\"))"
   ]
  },
  {
   "cell_type": "markdown",
   "id": "31eebe14-1a7a-4812-bdf4-ee85add977fd",
   "metadata": {},
   "source": [
    "---\n",
    "\n",
    "## (d) Different Quasi-Identifiers?\n",
    "\n",
    "We will now demonstrate the subset property from the lectures. Use the function `kAnonymity_Analyze()` to check whether the value $k$ drops or grows when the set of quasi-identifiers shrinks and when it grows. Concretely, run the function `kAnonymity_Analyze()` on `Lab2_Data` three times, and assign the results in the following variables:\n",
    "\n",
    "- `p1d_k_qid1` and `p1d_ec_qid1`: Assuming that the set of quasi-identifiers is solely the attribute 'Gender';\n",
    "- `p1d_k_qid2` and `p1d_ec_qid2`: Assuming that the set of quasi-identifiers is solely the attribute 'Race'; and\n",
    "- `p1d_k_qid3` and `p1d_ec_qid3`: Assuming that the set of quasi-identifiers is the set 'Gender', 'Race', 'Age', 'Marital_Status', and 'Country_Birth'.\n",
    "\n",
    "Replace the following code snippet with your answer:"
   ]
  },
  {
   "cell_type": "code",
   "execution_count": null,
   "id": "bf8f05cc-8941-4b5f-b94a-4b850c9bebe0",
   "metadata": {},
   "outputs": [],
   "source": [
    "raise Exception(\"Missing answer to 1(d)\")"
   ]
  },
  {
   "cell_type": "markdown",
   "id": "9de8cd35-fdd4-4e59-85ee-f328d0da55eb",
   "metadata": {},
   "source": [
    "Run the following cell to print the outcomes of your code."
   ]
  },
  {
   "cell_type": "code",
   "execution_count": null,
   "id": "05425599-da57-4f73-b196-5c0b6c4d3ca0",
   "metadata": {},
   "outputs": [],
   "source": [
    "display(Markdown(f'With `qID = [\"Gender\"]`, there are {len(p1d_ec_qid1)} equivalence classes:'))\n",
    "display(p1d_ec_qid1)\n",
    "display(Markdown(f\"The table satisfies {p1d_k_qid1}-Anonymity\"))\n",
    "display(Markdown(\"\"))\n",
    "display(Markdown(\"\"))\n",
    "display(Markdown(f'With `qID = [\"Race\"]`, there are {len(p1d_ec_qid2)} equivalence classes:'))\n",
    "display(p1d_ec_qid2)\n",
    "display(Markdown(f\"The table satisfies {p1d_k_qid2}-Anonymity\"))\n",
    "display(Markdown(\"\"))\n",
    "display(Markdown(\"\"))\n",
    "display(Markdown(f'With `qID = [\"Gender\", \"Race\", \"Age\", \"Marital_Status\", \"Country_Birth\"]`, there are {len(p1d_ec_qid3)} equivalence classes:'))\n",
    "display(p1d_ec_qid3)\n",
    "display(Markdown(f\"The table satisfies {p1d_k_qid3}-Anonymity\"))"
   ]
  },
  {
   "cell_type": "markdown",
   "id": "8e8ad8cf-10a0-4180-819f-1c9efb448a24",
   "metadata": {},
   "source": [
    "### In this Markdown cell, answer the following questions\n",
    "\n",
    "- For which sets of quasi-identifiers did $k$ decrease compared to the previous parts?\n",
    "- For which sets of quasi-identifiers did $k$ increase compared to the previous parts?\n",
    "- Is this consistent with the subset property from lecture?\n",
    "\n",
    "***Place your answer here***"
   ]
  },
  {
   "cell_type": "markdown",
   "id": "de13b97f-2f66-4c8e-a7cd-48d3ee657afc",
   "metadata": {},
   "source": [
    "---\n",
    "\n",
    "## (e) De-anonymizing the Dataset\n",
    "\n",
    "You are given another table in the variable `synthetic_identities`. This table has made-up identities of the individuals in the dataset `Lab2_Data` alongside their (made-up) demographic information as defined in the quasi-identifiers (of course without their subject IDs). That is, the table `synthetic_identities` has the following attributes: `First_Name`, `Middle_Name`, `Last_Names`, `Full_Name`, `Gender`, `Age`, `Marital_Status`, `Country_Birth`, and `Race`.\n",
    "\n",
    "Perform the appropriate join operation to join the two tables `Lab2_Data` and `synthetic_identities` in order to reidentify the subjects (as much as possible) in the dataset `Lab2_Data`. Store the result of the join operation in the variable `p1e_reidentified_data`.\n",
    "\n",
    "In each of the following variables, assign the possible `Subject_ID` values for the corresponding subject, based on the join:\n",
    "\n",
    "- `p1e_sids_s1`: the possible `Subject_ID` values for 'Gershom Hersch Gideon'\n",
    "- `p1e_sids_s2`: the possible `Subject_ID` values for 'Lincoln Jerald Dominick'\n",
    "- `p1e_sids_s3`: the possible `Subject_ID` values for 'Wojciech Tobe Ashby'\n",
    "- `p1e_sids_s4`: the possible `Subject_ID` values for 'Cesar Derick Newton'\n",
    "\n",
    "Replace the following code snippet with your answer:"
   ]
  },
  {
   "cell_type": "code",
   "execution_count": null,
   "id": "721936ba-3c42-476d-949d-4c6706bb5de2",
   "metadata": {},
   "outputs": [],
   "source": [
    "# The full list of QIDs\n",
    "qID = ['First_Name', 'Middle_Name', 'Last_Names', 'Full_Name', 'Gender', 'Age', 'Marital_Status', 'Country_Birth', 'Race']\n",
    "\n",
    "raise Exception(\"Missing answer to 1(e)\")"
   ]
  },
  {
   "cell_type": "markdown",
   "id": "94f2b7ae-6b19-45ef-a774-50d8daa41745",
   "metadata": {},
   "source": [
    "Run the following cell to print the outcomes of your code."
   ]
  },
  {
   "cell_type": "code",
   "execution_count": null,
   "id": "0faf5866-9487-4b9b-af76-24b7854e673f",
   "metadata": {},
   "outputs": [],
   "source": [
    "display(Markdown(f\"There are {len(p1e_reidentified_data)} records in the reidentified table:\"))\n",
    "display(p1e_reidentified_data)\n",
    "display(Markdown(f\"The set of possible subject IDs for subject 'Gershom Hersch Gideon' is {set(p1e_sids_s1)}.\"))\n",
    "display(Markdown(f\"The set of possible subject IDs for subject 'Lincoln Jerald Dominick' is {set(p1e_sids_s2)}.\"))\n",
    "display(Markdown(f\"The set of possible subject IDs for subject 'Wojciech Tobe Ashby' is {set(p1e_sids_s3)}.\"))\n",
    "display(Markdown(f\"The set of possible subject IDs for subject 'Cesar Derick Newton' is {set(p1e_sids_s4)}.\"))"
   ]
  },
  {
   "cell_type": "markdown",
   "id": "316585a1-f7b1-43b1-ae99-32fdc44dff93",
   "metadata": {},
   "source": [
    "### In this Markdown cell, answer the following question\n",
    "\n",
    "Which out of these subjects can be uniquely identified in the dataset `Lab2_Data`?\n",
    "\n",
    "***Place your answer here***"
   ]
  },
  {
   "cell_type": "markdown",
   "id": "fcb5e85c-8506-43a9-a02a-a71cc1766b96",
   "metadata": {},
   "source": [
    "---\n",
    "\n",
    "## (f) Attributes?\n",
    "\n",
    "As a follow-up to the previous part, what are the possible values for the attribute `Alcohol_Average` for each of the four subjects from part (e)? Assign the result of your calculation in the following variables:\n",
    "\n",
    "- `p1f_alc_s1`: the possible `Alcohol_Average` values for 'Gershom Hersch Gideon'\n",
    "- `p1f_alc_s2`: the possible `Alcohol_Average` values for 'Lincoln Jerald Dominick'\n",
    "- `p1f_alc_s3`: the possible `Alcohol_Average` values for 'Wojciech Tobe Ashby'\n",
    "- `p1f_alc_s4`: the possible `Alcohol_Average` values for 'Cesar Derick Newton'\n",
    "\n",
    "Replace the following code snippet with your answer:"
   ]
  },
  {
   "cell_type": "code",
   "execution_count": null,
   "id": "49f4f2ac-34a4-4841-8cd4-1ce631c4ece8",
   "metadata": {},
   "outputs": [],
   "source": [
    "raise Exception(\"Missing answer to 1(f)\")"
   ]
  },
  {
   "cell_type": "markdown",
   "id": "348a7740-baeb-47c3-9cdc-9b4e53993767",
   "metadata": {},
   "source": [
    "Run the following cell to print the outcomes of your code."
   ]
  },
  {
   "cell_type": "code",
   "execution_count": null,
   "id": "181e26c5-621e-4b26-8d44-9735d6bf0d39",
   "metadata": {},
   "outputs": [],
   "source": [
    "display(Markdown(f\"The set of possible Alcohol_Average values for subject 'Gershom Hersch Gideon' is {set(p1f_alc_s1)}.\"))\n",
    "display(Markdown(f\"The set of possible Alcohol_Average values for subject 'Lincoln Jerald Dominick' is {set(p1f_alc_s2)}.\"))\n",
    "display(Markdown(f\"The set of possible Alcohol_Average values for subject 'Wojciech Tobe Ashby' is {set(p1f_alc_s3)}.\"))\n",
    "display(Markdown(f\"The set of possible Alcohol_Average values for subject 'Cesar Derick Newton' is {set(p1f_alc_s4)}.\"))"
   ]
  },
  {
   "cell_type": "markdown",
   "id": "31a13206-a2c4-4735-b07b-4616d337f3ed",
   "metadata": {},
   "source": [
    "### In this Markdown cell, answer the following questions\n",
    "\n",
    "- For which out of these subjects can you uniquely assert the value of the attribute `Alcohol_Average`?\n",
    "- Are these the same subjects you were able to uniquely identify in the previous part? Explain.\n",
    "\n",
    "***Place your answer here***"
   ]
  },
  {
   "cell_type": "markdown",
   "id": "6c9157df-000f-425c-9f08-6c20e99b3a3c",
   "metadata": {},
   "source": [
    "---\n",
    "\n",
    "## (g) Anonymizing the Table\n",
    "\n",
    "It is clear that if we are to release all columns of the data, then we have to consider the set of quasi-identifiers to include at least `Gender`, `Age`, `Marital_Status`, `Country_Birth`, and `Race`:"
   ]
  },
  {
   "cell_type": "markdown",
   "id": "d8493f26-cd27-4089-bad7-93953ca0719a",
   "metadata": {},
   "source": [
    "```python\n",
    "qID = ['Gender', 'Age', 'Marital_Status', 'Country_Birth', 'Race']\n",
    "```"
   ]
  },
  {
   "cell_type": "markdown",
   "id": "15594572-08c7-42f5-ac4d-f5c1f88d29d6",
   "metadata": {},
   "source": [
    "But as we've seen from the previous parts, this set leads to very bad value for $k$ and a very bad privacy guarantee.\n",
    "\n",
    "In this part, we will generalize the table `Lab2_Data` with respect to some of its quasi-identifiers in an effort to increase the value $k$ for which this table is $k$-anonymous.\n",
    "\n",
    "Write code that makes the following generalizations:\n",
    "- `Marital_Status`: generalize all values that are not \"Married\" or \"Never Married\" to the value 7, indicating \"Other.\" (You will end up with 3 distinct values: one for \"Married,\" another for \"Never Married\" and yet another for \"Other.\")\n",
    "- `Race`: generalize the values \"Mexican American\" and \"Other Hispanic\" to the value 8, indicating \"Hispanic\".\n",
    "- `Race`: generalize the values \"Non-Hispanic Asian\" and \"Other Race - Including Multi-Racial\" to the value 9, indicating \"Other\".\n",
    "- `Age`: generalize the values 0-30 to 30, the values 31-40 to 40, the values 41-50 to 50, and the values 51-70 to 70.\n",
    "- `Country_Birth`: generalize all values to 3, indicating \"Earth\"\n",
    "\n",
    "Assign this generalized table to the variable `p1g_data`.\n",
    "\n",
    "**Make sure you don't directly edit the table `Lab2_Data` so to not affect the following parts/problems. For that, take a look at the function [`DataFrame.copy()`](https://pandas.pydata.org/docs/reference/api/pandas.DataFrame.copy.html)**.\n",
    "\n",
    "Replace the following code snippet with your answer:"
   ]
  },
  {
   "cell_type": "code",
   "execution_count": null,
   "id": "b09857f3-0235-493a-999e-204aa78423b1",
   "metadata": {},
   "outputs": [],
   "source": [
    "#qIDs:\n",
    "qID = ['Gender', 'Age', 'Marital_Status', 'Country_Birth', 'Race']\n",
    "\n",
    "# start by copying the table\n",
    "p1g_data = Lab2_Data.copy()\n",
    "\n",
    "raise Exception(\"Missing answer to 1(g)\")"
   ]
  },
  {
   "cell_type": "markdown",
   "id": "f93abe6a-acbf-4d0b-abab-399cef05faae",
   "metadata": {},
   "source": [
    "Run the following cell to print the outcomes of your code."
   ]
  },
  {
   "cell_type": "code",
   "execution_count": null,
   "id": "b2577617-fb9e-4db4-b571-384b9452b8fd",
   "metadata": {},
   "outputs": [],
   "source": [
    "[p1g_k, p1g_eqv_classes] = kAnonymity_Analyze(p1g_data, qID)\n",
    "display(Markdown(f'The table is {p1g_k}-anonymous with full set of quasi-identifier'))\n",
    "display(Markdown(f'The following are the equivalence classes with k={p1g_k}'))\n",
    "display(p1g_eqv_classes.loc[p1g_eqv_classes.k == p1g_k,:])"
   ]
  },
  {
   "cell_type": "markdown",
   "id": "fc3ccc8e-5220-4da0-86d8-d24e72b9fd30",
   "metadata": {},
   "source": [
    "---\n",
    "\n",
    "## (h) Distribution of k?\n",
    "\n",
    "One way to visualize the utility-privacy tradeoff is as follows. The higher we make $k$, the less demographic information we retain (in terms of granularity). Therefore, the more we generalize, the less utility we have. However, if we generalize a table in such a way that, for example, one equivalence class has $k=2$ and all other equivalence classes have $k=100$ (resulting in a best guarantee for the table of $k=2$) then perhaps there is a better generalization that would make the rest of the equivalence classes have a smaller $k$ than 100 (but still at least 2), and thus provide the same $k$-Anonymity guarantee ($k=2$) while potentially providing higher utility because that table is less generalized.\n",
    "\n",
    "In this part, we will look at the distribution of the values $k$ for the different equivalence classes using the quasi-identifiers from the previous part.\n",
    "\n",
    "Write code that plots the histogram of the values $k$ for the different equivalence classes (for the generalized table from part **1g**), using the following bins:\n",
    "\n",
    "```python\n",
    "bins = range(0,101,5)\n",
    "```\n",
    "\n",
    "Don't forget to label the axes and title the figure.\n",
    "\n",
    "Replace the following code snippet with your answer:"
   ]
  },
  {
   "cell_type": "code",
   "execution_count": null,
   "id": "d602e44d-3927-4e29-9dc0-94932ce32b8a",
   "metadata": {},
   "outputs": [],
   "source": [
    "# The bins\n",
    "bins = range(0,101,5)\n",
    "\n",
    "raise Exception(\"Missing answer to 1(h)\")"
   ]
  },
  {
   "cell_type": "markdown",
   "id": "0c7a9f9e-a0a4-46e7-8dc5-10320fca674b",
   "metadata": {},
   "source": [
    "### In this Markdown cell, answer the following question\n",
    "\n",
    "Based on the result, is our generalization a good generalization in terms of the utility-privacy tradeoff, in your opinion? Explain.\n",
    "\n",
    "***Place your answer here***"
   ]
  },
  {
   "cell_type": "markdown",
   "id": "aa08825d-e299-4bbf-910d-745f9b5f9edf",
   "metadata": {},
   "source": [
    "---\n",
    "\n",
    "# Problem 2\n",
    "In this problem we will investigate $\\ell$-diversity.\n",
    "\n",
    "## (a) How Diverse is Each Equivalence Class?\n",
    "\n",
    "In this part, we will implement the function `lDiversity_Analyze()`. Complete your implementation of the function `lDiversity_Analyze()` as specified below.\n",
    "\n",
    "The function `lDiversity_Analyze()` takes three arguments:\n",
    "- `data`: the data table to be analyzed;\n",
    "- `quasi_identifiers`: a list containing the names of the columns that constitute the set of quasi-identifiers; and\n",
    "- `sensitive_column`: the column name of the (single) sensitive attribute. The function shall assume that the published table consists only of the quasi-identifiers and the single sensitive attribute (and ignore all other columns).\n",
    "\n",
    "The function `lDiversity_Analyze()` should return three outputs:\n",
    "- `lEntropy`: the best value $\\ell$ that the table `data_table` (input argument) satisfies Entropy $\\ell$-Diversity with, with respect to the set of quasi-identifiers `quasi_identifiers` (input argument) and the sensitive attribute `sensitive_column` (input argument).\n",
    "- `lDistinct`: the best value $\\ell$ that the table `data_table` (input argument) satisfies Distinct $\\ell$-Diversity with, with respect to the set of quasi-identifiers `quasi_identifiers` (input argument) and the sensitive attribute `sensitive_column` (input argument).\n",
    "- `equivalence_classes`: a table of equivalence classes (similar to the last problem), including two columns: `lEntropy` and `lDistinct` that indicate the entropy and distinct $\\ell$-Diversity values for each equivalence class, respectively.\n",
    "\n",
    "Replace the following code snippet with your answer:"
   ]
  },
  {
   "cell_type": "code",
   "execution_count": null,
   "id": "93d4974b-c728-45e1-aa61-a9515ae544fa",
   "metadata": {},
   "outputs": [],
   "source": [
    "raise Exception(\"Missing answer to 2(a)\")"
   ]
  },
  {
   "cell_type": "markdown",
   "id": "3bfd3c74-e7d0-4c55-a332-3c3d85ba8e52",
   "metadata": {},
   "source": [
    "Run the following cell to print the outcomes of your code.\n",
    "\n",
    "The following code will use the function `lDiversity_Analyze()` to generate the following variables:\n",
    "- `p2a_entropy_l_c1`, `p2a_distinct_l_c1`, `p2a_eqv_classes_c1`: The return values from the function using\n",
    "    - Table `Lab2_Data`,\n",
    "    - Sensitive attribute `Household_Income`, and\n",
    "    - Quasi-identifiers `['Gender', 'Age', 'Marital_Status', 'Country_Birth', 'Race']`.\n",
    "- `p2a_entropy_l_c2`, `p2a_distinct_l_c2`, `p2a_eqv_classes_c2`: The return values from the function using\n",
    "    - Table `p1g_data`,\n",
    "    - Sensitive attribute `Household_Income`, and\n",
    "    - Quasi-identifiers `['Gender', 'Age', 'Marital_Status', 'Country_Birth', 'Race']`.\n",
    "- `p2a_entropy_l_c3`, `p2a_distinct_l_c3`, `p2a_eqv_classes_c3`: The return values from the function using\n",
    "    - Table `p1g_data`,\n",
    "    - Sensitive attribute `EverUsed_Cocaine_Heroin_OR_Methamphetamine`, and \n",
    "    - Quasi-identifiers `['Gender', 'Age', 'Marital_Status', 'Country_Birth', 'Race']`.\n",
    "- `p2a_entropy_l_c4`, `p2a_distinct_l_c4`, `p2a_eqv_classes_c4`: The return values from the function using\n",
    "    - Table `p1g_data`,\n",
    "    - Sensitive attribute `Alcohol_Average`, and\n",
    "    - Quasi-identifiers `['Gender', 'Age', 'Marital_Status', 'Country_Birth', 'Race']`.\n",
    "- `p2a_entropy_l_c5`, `p2a_distinct_l_c5`, `p2a_eqv_classes_c5`: The return values from the function using\n",
    "    - Table `p1g_data`,\n",
    "    - Sensitive attribute `Household_Income`, and\n",
    "    - Quasi-identifier `['Gender']`.\n",
    "- `p2a_entropy_l_c6`, `p2a_distinct_l_c6`, `p2a_eqv_classes_c6`: The return values from the function using\n",
    "    - Table `p1g_data`,\n",
    "    - Sensitive attribute `Household_Income`, and\n",
    "    - Quasi-identifiers `['Gender', 'Race']`.\n",
    "- `p2a_entropy_l_c7`, `p2a_distinct_l_c7`, `p2a_eqv_classes_c7`: The return values from the function using \n",
    "    - Table `p1g_data`,\n",
    "    - Sensitive attribute `Household_Income`, and\n",
    "    - Quasi-identifiers `['Gender', 'Race', 'Age']`.\n"
   ]
  },
  {
   "cell_type": "code",
   "execution_count": null,
   "id": "a7331860-c37b-4746-9909-47f3c7485e58",
   "metadata": {},
   "outputs": [],
   "source": [
    "# Case 1\n",
    "qID = ['Gender', 'Age', 'Marital_Status', 'Country_Birth', 'Race']\n",
    "SA = 'Household_Income'\n",
    "p2a_entropy_l_c1, p2a_distinct_l_c1, p2a_eqv_classes_c1 = lDiversity_Analyze(Lab2_Data, qID, SA)\n",
    "\n",
    "# Case 2\n",
    "qID = ['Gender', 'Age', 'Marital_Status', 'Country_Birth', 'Race']\n",
    "SA = 'Household_Income'\n",
    "p2a_entropy_l_c2, p2a_distinct_l_c2, p2a_eqv_classes_c2 = lDiversity_Analyze(p1g_data, qID, SA)\n",
    "\n",
    "# Case 3\n",
    "qID = ['Gender', 'Age', 'Marital_Status', 'Country_Birth', 'Race']\n",
    "SA = 'EverUsed_Cocaine_Heroin_OR_Methamphetamine'\n",
    "p2a_entropy_l_c3, p2a_distinct_l_c3, p2a_eqv_classes_c3 = lDiversity_Analyze(p1g_data, qID, SA)\n",
    "\n",
    "# Case 4\n",
    "qID = ['Gender', 'Age', 'Marital_Status', 'Country_Birth', 'Race']\n",
    "SA = 'Alcohol_Average'\n",
    "p2a_entropy_l_c4, p2a_distinct_l_c4, p2a_eqv_classes_c4 = lDiversity_Analyze(p1g_data, qID, SA)\n",
    "\n",
    "# Case 5\n",
    "qID = ['Gender']\n",
    "SA = 'Household_Income'\n",
    "p2a_entropy_l_c5, p2a_distinct_l_c5, p2a_eqv_classes_c5 = lDiversity_Analyze(p1g_data, qID, SA)\n",
    "\n",
    "# Case 6\n",
    "qID = ['Gender', 'Race']\n",
    "SA = 'Household_Income'\n",
    "p2a_entropy_l_c6, p2a_distinct_l_c6, p2a_eqv_classes_c6 = lDiversity_Analyze(p1g_data, qID, SA)\n",
    "\n",
    "# Case 7\n",
    "qID = ['Gender', 'Race', 'Age']\n",
    "SA = 'Household_Income'\n",
    "p2a_entropy_l_c7, p2a_distinct_l_c7, p2a_eqv_classes_c7 = lDiversity_Analyze(p1g_data, qID, SA)\n",
    "\n",
    "display(Markdown(f\"\\\n",
    "| Case # | Table       | Quasi-Identifiers       | Sensitive Attribute                          | Entropy $\\ell$         | Distinct $\\ell$     | # ECs                     |\\n\\\n",
    "| :-     | :-          | :-                      | :-                                           | :-:                    | :-:                 | :-:                       |\\n\\\n",
    "| 1      | `Lab2_Data` | Full                    | `Household_Income`                           | {p2a_entropy_l_c1:.4f} | {p2a_distinct_l_c1} | {len(p2a_eqv_classes_c1)} |\\n\\\n",
    "| 2      | `p1g_data`  | Full                    | `Household_Income`                           | {p2a_entropy_l_c2:.4f} | {p2a_distinct_l_c2} | {len(p2a_eqv_classes_c2)} |\\n\\\n",
    "| 3      | `p1g_data`  | Full                    | `EverUsed_Cocaine_Heroin_OR_Methamphetamine` | {p2a_entropy_l_c3:.4f} | {p2a_distinct_l_c3} | {len(p2a_eqv_classes_c3)} |\\n\\\n",
    "| 4      | `p1g_data`  | Full                    | `Alcohol_Average`                            | {p2a_entropy_l_c4:.4f} | {p2a_distinct_l_c4} | {len(p2a_eqv_classes_c4)} |\\n\\\n",
    "| 5      | `p1g_data`  | `Gender`                | `Household_Income`                           | {p2a_entropy_l_c5:.4f} | {p2a_distinct_l_c5} | {len(p2a_eqv_classes_c5)} |\\n\\\n",
    "| 6      | `p1g_data`  | `Gender`, `Race`        | `Household_Income`                           | {p2a_entropy_l_c6:.4f} | {p2a_distinct_l_c6} | {len(p2a_eqv_classes_c6)} |\\n\\\n",
    "| 7      | `p1g_data`  | `Gender`, `Race`, `Age` | `Household_Income`                           | {p2a_entropy_l_c7:.4f} | {p2a_distinct_l_c7} | {len(p2a_eqv_classes_c7)} |\\n\\\n",
    "\"))"
   ]
  },
  {
   "cell_type": "markdown",
   "id": "562720f6-5aee-4837-b349-7bc6adb682a6",
   "metadata": {},
   "source": [
    "---\n",
    "\n",
    "## (b) Attribute Disclosure?\n",
    "\n",
    "Compare the $k$-Anoymity and $\\ell$-Diversity guarantees for the table `p1g_data` on the sensitive attribute `Household_Income` using the full set of quasi-identifiers `qID`:\n",
    "\n",
    "```python\n",
    "qID = ['Gender', 'Age', 'Marital_Status', 'Country_Birth', 'Race']\n",
    "```\n",
    "\n",
    "If your code is correct, you should see that even though $k$-anonymty guarantees that no single record in `p1g_data` can be uniquely linked to a specific subject, we are still not guaranteed to not disclose the sensitive attribute `Household_Income` for our subjects. In this part, we will demonstrate this fact.\n",
    "\n",
    "Write code to reidentify the subjects in `p1g_data` as much as possible using the made-up identities in table `synthetic_identities`.\n",
    "\n",
    "Make sure you generalize the attributes in the `synthetic_identities` table to match the generalizaion performed in the previous problem so that the join works as expeted. For convenience, the generalizations appliued in Problem 1g are:\n",
    "- `Marital_Status`: generalize all values that are not \"Married\" or \"Never Married\" to the value 7, indicating \"Other.\" (You will end up with 3 distinct values: one for \"Married,\" another for \"Never Married\" and yet another for \"Other.\")\n",
    "- `Race`: generalize the values \"Mexican American\" and \"Other Hispanic\" to the value 8, indicating \"Hispanic\".\n",
    "- `Race`: generalize the values \"Non-Hispanic Asian\" and \"Other Race - Including Multi-Racial\" to the value 9, indicating \"Other\".\n",
    "- `Age`: generalize the values 0-30 to 30, the values 31-40 to 40, the values 41-50 to 50, and the values 51-70 to 70.\n",
    "- `Country_Birth`: generalize all values to 3, indicating \"Earth\"\n",
    "\n",
    "Assign this generalized identities table to the variable `p2b_identities`.\n",
    "\n",
    "**Make sure you don't directly edit the table `synthetic_identities` so to not affect the following parts/problems. For that, take a look at the function [`DataFrame.copy()`](https://pandas.pydata.org/docs/reference/api/pandas.DataFrame.copy.html)**.\n",
    "\n",
    "Join the tables `p2b_identities` and `p1g_data` and look for the subject `'Dionis Fara Elliott'` to create the following variables:\n",
    "\n",
    "- `p2b_reidentified_data`: The joined table result.\n",
    "- `p2b_possible_SIDs`: The possible values for `Subject_IDs` that the Dionis may have.\n",
    "- `p2b_possible_income`: The possible values for `Household_Income` that Dionis may have.\n",
    "\n",
    "Replace the following code snippet with your answer:"
   ]
  },
  {
   "cell_type": "code",
   "execution_count": null,
   "id": "517dc4a5-193c-4955-8069-a8571e863c26",
   "metadata": {},
   "outputs": [],
   "source": [
    "# qID\n",
    "qID = ['Gender', 'Age', 'Marital_Status', 'Country_Birth', 'Race']\n",
    "\n",
    "# The name of the person of interest\n",
    "p2b_person_of_interest = 'Dionis Fara Elliott'\n",
    "\n",
    "# start by copying the table\n",
    "p2b_identities = synthetic_identities.copy()\n",
    "\n",
    "raise Exception(\"Missing answer to 2(b)\")"
   ]
  },
  {
   "cell_type": "markdown",
   "id": "0eb25a82-f97b-4f1c-8905-f482e410678f",
   "metadata": {},
   "source": [
    "Run the following cell to print the outcomes of your code."
   ]
  },
  {
   "cell_type": "code",
   "execution_count": null,
   "id": "5beafff0-de12-4b9e-b585-d6246d2e4e7b",
   "metadata": {},
   "outputs": [],
   "source": [
    "display(Markdown(f\"Here are the results for '{p2b_person_of_interest}':\\n\\n\\\n",
    "| Possible SID values      | Identity disclosure?                                  | Possible income values     | Attribute disclosure?                                   | # Records in reidentified table |\\n\\\n",
    "| :-:                      | :-                                                    | :-:                        | :-                                                      | :-:                             |\\n\\\n",
    "| {set(p2b_possible_SIDs)} | {'Yes' if len(set(p2b_possible_SIDs)) == 1 else 'No'} | {set(p2b_possible_income)} | {'Yes' if len(set(p2b_possible_income)) == 1 else 'No'} | {len(p2b_reidentified_data)}    |\"))\n",
    "    "
   ]
  },
  {
   "cell_type": "markdown",
   "id": "8873f8a9-aa17-439b-932e-940bd04e051b",
   "metadata": {},
   "source": [
    "---\n",
    "\n",
    "## (c) Diversifying the Table\n",
    "\n",
    "From the previous parts, we see that we are not providing a good $\\ell$-Diversity (neither entropy nor distinct) guarantee for the table `p1g_data` with the full set of quasi-identifiers, even with the $k$-Anonymity guarantee that we provide. Therefore, we would like to generalize the table `p1g_data` further.\n",
    "\n",
    "Consider the full set of quasi-identifiers:\n",
    "```python\n",
    "qID = ['Gender', 'Age', 'Marital_Status', 'Country_Birth', 'Race']\n",
    "```\n",
    "\n",
    "Write code that makes the following generalization on top of the previous generalization we already applied to `p1g_data`:\n",
    "\n",
    "- `Gender`: generalize the values to 3=\"Human\" only for records with property Race = 9\n",
    "\n",
    "Assign this new generalized version of the data to the variable `p2c_data`.\n",
    "\n",
    "**Make sure you don't directly edit the table `p1g_data` so to not affect the following parts/problems. For that, take a look at the function [`DataFrame.copy()`](https://pandas.pydata.org/docs/reference/api/pandas.DataFrame.copy.html)**.\n",
    "\n",
    "Using the generalized table `p2c_data` and the function `lDiversity_Analyze()`, create the following variables:\n",
    "\n",
    "- `p2c_entropy_l`: The best entropy $\\ell$-Diversity guarantee for the table `p2c_data` using quasi-identifiers `qID` and sensitive attribute `SA`,\n",
    "- `p2c_distinct_l`: The best distinct $\\ell$-Diversity guarantee for the table `p2c_data` using quasi-identifiers `qID` and sensitive attribute `SA`, and\n",
    "- `p2c_eqv_classes`: The equivalence classes report for the table `p2c_data` using quasi-identifiers `qID` and sensitive attribute `SA`,\n",
    "\n",
    "Replace the following code snippet with your answer:"
   ]
  },
  {
   "cell_type": "code",
   "execution_count": null,
   "id": "7ab16a28-2dba-4027-9e2b-10d48cc2186e",
   "metadata": {},
   "outputs": [],
   "source": [
    "# qID\n",
    "qID = ['Gender', 'Age', 'Marital_Status', 'Country_Birth', 'Race']\n",
    "# Sensitive attribute\n",
    "SA = 'Household_Income'\n",
    "\n",
    "# Start by copying the table\n",
    "p2c_data = p1g_data.copy()\n",
    "\n",
    "raise Exception(\"Missing answer to 2(c)\")"
   ]
  },
  {
   "cell_type": "markdown",
   "id": "67b66c67-6f3a-43b3-99a8-92d50fa1fb2f",
   "metadata": {},
   "source": [
    "Run the following cell to print the outcomes of your code."
   ]
  },
  {
   "cell_type": "code",
   "execution_count": null,
   "id": "2cd06c6c-b0f4-4326-a993-bd28506ed53b",
   "metadata": {},
   "outputs": [],
   "source": [
    "display(Markdown(f'The table satisfies Entropy {p2c_entropy_l}-Diversity and Distinct {p2c_distinct_l}-Diversity with full set of quasi-identifier'))\n",
    "display(Markdown(f'The following are the equivalence classes with le={p2c_entropy_l}'))\n",
    "display(p2c_eqv_classes.loc[p2c_eqv_classes.lEntropy == p2c_entropy_l,:])"
   ]
  },
  {
   "cell_type": "markdown",
   "id": "2954eef2-ec57-4bcd-b301-a80d592aa591",
   "metadata": {},
   "source": [
    "### In this Markdown cell, answer the following question\n",
    "\n",
    "Did the privacy guarantee improve compared to before?\n",
    "\n",
    "***Place your answer here***"
   ]
  },
  {
   "cell_type": "markdown",
   "id": "0cf38135-d581-451e-8625-286473c32eb5",
   "metadata": {},
   "source": [
    "---\n",
    "\n",
    "## (d) Try Again\n",
    "\n",
    "Write code to reidentify the subjects in `p2c_data` as much as possible. Make sure you generalize the attributes in the identities table `p2b_identities` to match the generalizaion performed in the previous part. For convenience, the generalization applied in part c is:\n",
    "\n",
    "- `Gender`: generalize the values to 3=\"Human\" only for records with property Race = 9\n",
    "\n",
    "Assign the generalized identities table to the variable `p2d_identities`.\n",
    "\n",
    "**Make sure you don't directly edit the table `p2b_identities` so to not affect the following parts/problems. For that, take a look at the function [`DataFrame.copy()`](https://pandas.pydata.org/docs/reference/api/pandas.DataFrame.copy.html)**.\n",
    "\n",
    "Join the tables `p2b_identities` and `p1g_data` and look for the subject `'Dionis Fara Elliott'` to create the following variables:\n",
    "\n",
    "- `p2d_reidentified_data`: The joined table result.\n",
    "- `p2d_possible_SIDs`: The possible values for `Subject_IDs` that the Dionis may have.\n",
    "- `p2d_possible_income`: The possible values for `Household_Income` that Dionis may have.\n",
    "\n",
    "Replace the following code snippet with your answer:"
   ]
  },
  {
   "cell_type": "code",
   "execution_count": null,
   "id": "8a4018b0-dc01-4e9c-b39e-7a5b72629c82",
   "metadata": {},
   "outputs": [],
   "source": [
    "# qID\n",
    "qID = ['Gender', 'Age', 'Marital_Status', 'Country_Birth', 'Race']\n",
    "\n",
    "# The name of the person of interest\n",
    "p2d_person_of_interest = 'Dionis Fara Elliott'\n",
    "\n",
    "# start by copying the table\n",
    "p2d_identities = p2b_identities.copy()\n",
    "\n",
    "raise Exception(\"Missing answer to 2(d)\")"
   ]
  },
  {
   "cell_type": "markdown",
   "id": "a2a50b28-b865-4206-9695-1e0456c0ebd0",
   "metadata": {},
   "source": [
    "Run the following cell to print the outcomes of your code."
   ]
  },
  {
   "cell_type": "code",
   "execution_count": null,
   "id": "166fcef6-7507-48b1-a636-721a1e44aabf",
   "metadata": {},
   "outputs": [],
   "source": [
    "display(Markdown(f\"Here are the results for '{p2d_person_of_interest}' after generalization:\\n\\n\\\n",
    "| Possible SID values      | Identity disclosure?                                  | Possible income values     | Attribute disclosure?                                   | # Records in reidentified table |\\n\\\n",
    "| :-:                      | :-                                                    | :-:                        | :-                                                      | :-:                             |\\n\\\n",
    "| {set(p2d_possible_SIDs)} | {'Yes' if len(set(p2d_possible_SIDs)) == 1 else 'No'} | {set(p2d_possible_income)} | {'Yes' if len(set(p2d_possible_income)) == 1 else 'No'} | {len(p2d_reidentified_data)}    |\"))\n",
    "    "
   ]
  },
  {
   "cell_type": "markdown",
   "id": "ee26ddd3-84c4-4d2b-9950-04b816814556",
   "metadata": {},
   "source": [
    "---\n",
    "\n",
    "## (e) Histogram of $\\ell$ per Class\n",
    "\n",
    "One way to visualize the utility-privacy tradeoff is as follows. The more we generalize, the less utility we have (even though $\\ell$ increases/stays the same: better privacy). For example, if we generalize a table in such a way that one equivalence class has $\\ell=2$ and all other equivalence classes have $\\ell=100$ (resulting in a best guarantee for the table of $\\ell=2$) then perhaps there's a better generalization that would make the rest of the equivalence classes have a smaller $\\ell$ than $100$ (but still not smaller than $2$), and thus provide the same $\\ell$-diversity guarantee while potentially providing higher utility because that table is less generalized.\n",
    "\n",
    "In this part, we will look at the distribution of the values  for the different equivalence classes as a way to study this utility-privacy tradeoff.\n",
    "\n",
    "Write code that plots for the generalized table from part **2c**:\n",
    "\n",
    "- A histograms of the values entropy $\\ell$ for the different equivalence classes; and\n",
    "- Another histogram (on a separate figure) of the values distinct $\\ell$ for the different equivalent classes.\n",
    "\n",
    "For both histograms, use the following bins:\n",
    "\n",
    "```python\n",
    "bins = range(0,17)\n",
    "```\n",
    "\n",
    "Don't forget to label the axes and title the figure.\n",
    "\n",
    "Replace the following code snippet with your answer:"
   ]
  },
  {
   "cell_type": "code",
   "execution_count": null,
   "id": "6f6bbdae-dc64-48cc-b87c-0751d7d040c6",
   "metadata": {},
   "outputs": [],
   "source": [
    "# The bins for the plot\n",
    "bins = range(0,17)\n",
    "\n",
    "raise Exception(\"Missing answer to 2(e)\")"
   ]
  },
  {
   "cell_type": "markdown",
   "id": "d3c7c10b-1de9-4af5-a9c3-d468d7a15350",
   "metadata": {},
   "source": [
    "### In this Markdown cell, answer the following question\n",
    "\n",
    "Based on the result, is our generalization a good generalization in terms of the utility-privacy tradeoff, in your opinion? Explain.\n",
    "\n",
    "***Place your answer here***"
   ]
  },
  {
   "cell_type": "markdown",
   "id": "670cedd7-b62d-4bbc-ac51-8d0ee0cb849f",
   "metadata": {},
   "source": [
    "---\n",
    "\n",
    "# Problem 3\n",
    "\n",
    "In this problem, we will study $t$-Closeness.\n",
    "\n",
    "## (a) Earth Movers Distance\n",
    "\n",
    "In this part, we will implement the function `EMD_ordered_distance()`. Complete your implementation of the function `EMD_ordered_distance()` below. The function is partially implemented, understand it and complete the missing parts. You may also discard any partial implementation and implement this function from scratch if you prefer.\n",
    "\n",
    "The function `EMD_ordered_distance()` takes three arguments:\n",
    "- `data_table`: the data table to be analyzed.\n",
    "- `quasi_identifiers`: a list containing the names of the columns that constitute the set of quasi-identifiers.\n",
    "- `sensitive_column`: the column name of the (single) sensitive attribute.\n",
    "- `sensitive_values_order`: the order of the sensitive values for which to use in the ordered ground distance calculation.\n",
    "\n",
    "The function will assume that the published table consists only of the quasi-identifiers and the single sensitive attribute (and ignore all other columns).\n",
    "\n",
    "The function `EMD_ordered_distance` shall return two outputs:\n",
    "- `t`: the best value $t$ that the table `data_table` (input argument) satisfies $t$-Closeness with respect to the set of quasi-identifiers `quasi_identifiers` (input argument) and the sensitive attribute `sensitive_column` (input argument) using Ordered Ground Distance, and using the order of sensitive attributes specified in `sensitive_values_order` (input argument).\n",
    "- `equivalence_classes`: a table of equivalence classes (similar to the last two problems), including an extra column: `EMD` that indicates the Earth Mover's Distance for each corresponding equivalence class using the sensitive attribute `sensitive_column` (input argument), using Ordered Ground Distance, and using the order of sensitive attributes specified in `sensitive_values_order` (input argument).\n",
    "\n",
    "Replace the following code snippet with your answer:"
   ]
  },
  {
   "cell_type": "code",
   "execution_count": null,
   "id": "09a38646-77b8-4924-b968-5ed7063cf541",
   "metadata": {},
   "outputs": [],
   "source": [
    "raise Exception(\"Missing answer to 3(a)\")"
   ]
  },
  {
   "cell_type": "markdown",
   "id": "02913898-8516-4d37-92e9-af4f5d3396a7",
   "metadata": {},
   "source": [
    "Run the following cell to print the outcomes of your code.\n",
    "\n",
    "The following code will use the function `EMD_ordered_distance()` to generate the following variables:\n",
    "- `p3a_t_c1`, `p3a_eqv_classes_c1`: The return values from the function using\n",
    "    - Table `Lab2_Data`,\n",
    "    - Sensitive attribute `Household_Income`, and\n",
    "    - Quasi-identifiers `['Gender', 'Age', 'Marital_Status', 'Country_Birth', 'Race']`.\n",
    "    - Sensitive attributes order: `[1, 2, 3, 4, 5, 6, 7, 8, 9, 10, 12, 13, 14, 15]`.\n",
    "- `p3a_t_c2`, `p3a_eqv_classes_c2`: The return values from the function using\n",
    "    - Table `p1g_data`,\n",
    "    - Sensitive attribute `Household_Income`, and\n",
    "    - Quasi-identifiers `['Gender', 'Age', 'Marital_Status', 'Country_Birth', 'Race']`.\n",
    "    - Sensitive attributes order: `[1, 2, 3, 4, 5, 6, 7, 8, 9, 10, 12, 13, 14, 15]`.\n",
    "- `p3a_t_c3`, `p3a_eqv_classes_c3`: The return values from the function using\n",
    "    - Table `p2c_data`,\n",
    "    - Sensitive attribute `Household_Income`, and\n",
    "    - Quasi-identifiers `['Gender', 'Age', 'Marital_Status', 'Country_Birth', 'Race']`.\n",
    "    - Sensitive attributes order: `[1, 2, 3, 4, 5, 6, 7, 8, 9, 10, 12, 13, 14, 15]`.\n",
    "- `p3a_t_c4`, `p3a_eqv_classes_c4`: The return values from the function using\n",
    "    - Table `Lab2_Data`,\n",
    "    - Sensitive attribute `Household_Income`, and\n",
    "    - Quasi-identifiers `['Gender', 'Age', 'Marital_Status', 'Country_Birth', 'Race']`.\n",
    "    - Sensitive attributes order: `[1, 2, 3, 4, 12, 13, 5, 6, 7, 8, 9, 10, 14, 15]`.\n",
    "- `p3a_t_c5`, `p3a_eqv_classes_c5`: The return values from the function using\n",
    "    - Table `p1g_data`,\n",
    "    - Sensitive attribute `Household_Income`, and\n",
    "    - Quasi-identifiers `['Gender', 'Age', 'Marital_Status', 'Country_Birth', 'Race']`.\n",
    "    - Sensitive attributes order: `[1, 2, 3, 4, 12, 13, 5, 6, 7, 8, 9, 10, 14, 15]`.\n",
    "- `p3a_t_c6`, `p3a_eqv_classes_c6`: The return values from the function using\n",
    "    - Table `p2c_data`,\n",
    "    - Sensitive attribute `Household_Income`, and\n",
    "    - Quasi-identifiers `['Gender', 'Age', 'Marital_Status', 'Country_Birth', 'Race']`.\n",
    "    - Sensitive attributes order: `[1, 2, 3, 4, 12, 13, 5, 6, 7, 8, 9, 10, 14, 15]`."
   ]
  },
  {
   "cell_type": "code",
   "execution_count": null,
   "id": "8c8f0b62-44a8-4388-8ba1-5dc752137d04",
   "metadata": {},
   "outputs": [],
   "source": [
    "qID = ['Gender', 'Age', 'Marital_Status', 'Country_Birth', 'Race']\n",
    "SA = 'Household_Income'\n",
    "sens_values_order = [1, 2, 3, 4, 5, 6, 7, 8, 9, 10, 12, 13, 14, 15]\n",
    "p3a_t_c1, p3a_eqv_classes_c1 = EMD_ordered_distance(Lab2_Data, qID, SA, sens_values_order)\n",
    "\n",
    "p3a_t_c2, p3a_eqv_classes_c2 = EMD_ordered_distance(p1g_data, qID, SA, sens_values_order)\n",
    "\n",
    "p3a_t_c3, p3a_eqv_classes_c3 = EMD_ordered_distance(p2c_data, qID, SA, sens_values_order)\n",
    "\n",
    "sens_values_order = [1, 2, 3, 4, 12, 13, 5, 6, 7, 8, 9, 10, 14, 15]\n",
    "\n",
    "p3a_t_c4, p3a_eqv_classes_c4 = EMD_ordered_distance(Lab2_Data, qID, SA, sens_values_order)\n",
    "\n",
    "p3a_t_c5, p3a_eqv_classes_c5 = EMD_ordered_distance(p1g_data, qID, SA, sens_values_order)\n",
    "\n",
    "p3a_t_c6, p3a_eqv_classes_c6 = EMD_ordered_distance(p2c_data, qID, SA, sens_values_order)\n",
    "\n",
    "display(Markdown(f\"\\\n",
    "| Case # | Table       | Quasi-Identifiers       | Sensitive Attribute | Order                                           | $t$            | # ECs                     |\\n\\\n",
    "| :-     | :-          | :-                      | :-                  | :-                                              | :-:            | :-:                       |\\n\\\n",
    "| 1      | `Lab2_Data` | Full                    | `Household_Income`  | [1, 2, 3, 4, 5, 6, 7, 8, 9, 10, 12, 13, 14, 15] | {p3a_t_c1:.4f} | {len(p3a_eqv_classes_c1)} |\\n\\\n",
    "| 2      | `p1g_data`  | Full                    | `Household_Income`  | [1, 2, 3, 4, 5, 6, 7, 8, 9, 10, 12, 13, 14, 15] | {p3a_t_c2:.4f} | {len(p3a_eqv_classes_c2)} |\\n\\\n",
    "| 3      | `p2c_data`  | Full                    | `Household_Income`  | [1, 2, 3, 4, 5, 6, 7, 8, 9, 10, 12, 13, 14, 15] | {p3a_t_c3:.4f} | {len(p3a_eqv_classes_c3)} |\\n\\\n",
    "| 4      | `Lab2_Data` | Full                    | `Household_Income`  | [1, 2, 3, 4, 12, 13, 5, 6, 7, 8, 9, 10, 14, 15] | {p3a_t_c4:.4f} | {len(p3a_eqv_classes_c4)} |\\n\\\n",
    "| 5      | `p1g_data`  | Full                    | `Household_Income`  | [1, 2, 3, 4, 12, 13, 5, 6, 7, 8, 9, 10, 14, 15] | {p3a_t_c5:.4f} | {len(p3a_eqv_classes_c5)} |\\n\\\n",
    "| 6      | `p2c_data`  | Full                    | `Household_Income`  | [1, 2, 3, 4, 12, 13, 5, 6, 7, 8, 9, 10, 14, 15] | {p3a_t_c6:.4f} | {len(p3a_eqv_classes_c6)} |\\n\\\n",
    "\"))"
   ]
  },
  {
   "cell_type": "markdown",
   "id": "fa084ac0-0ab5-4dd1-ae88-6b96a5523980",
   "metadata": {},
   "source": [
    "### In this Markdown cell, answer the following question\n",
    "\n",
    "Which table has the best t-Closeness guarantee? Explain.\n",
    "\n",
    "***Place your answer here***"
   ]
  },
  {
   "cell_type": "markdown",
   "id": "b0c5a543-ea14-4866-9838-26894c427177",
   "metadata": {},
   "source": [
    "---\n",
    "\n",
    "## (b) Any Disclosure?\n",
    "\n",
    "$\\ell$-Diversity and $k$-Anonymity are giving us certain guarantees on the privacy of the dataset `p2c_data`. We learned that this alone is sometimes not sufficient, as the distribution of values within an equivalence class may be revealing about an individual.\n",
    "\n",
    "For this part, we will use household income to investigate that. We first note that the code values $12$ and $13$ for `Household_Income` are not mutually exclusive with the rest of the responses, so we remove the from the dataset, and store the resulting dataset in the variable `p3b_data`.\n",
    "\n",
    "```python\n",
    "p3b_data = p2c_data.iloc[numpy.isin(p2c_data.Household_Income, [12, 13], invert=True),:].copy()\n",
    "```\n",
    "\n",
    "Reidentify the dataset `p3b_data` using the made-up identities from `p2d_identities`, and create the following variables:\n",
    "- `p3b_reidentified_data`: the result of the join between `p3b_data` and `p2d_identities`.\n",
    "- `p3b_household_income_jerzy`: extract the possible values for the `Household_Income` attribute for subject 'Bernelle Ellette Jerzy'. Make sure you keep the frequency of the points you extract intact because we want to study the distrubtion of the values.\n",
    "\n",
    "Include the resulting figure (code provided after your snippet) in your report.\n",
    "\n",
    "Replace the following code snippet with your answer:"
   ]
  },
  {
   "cell_type": "code",
   "execution_count": null,
   "id": "c20f8bdb-6272-4751-85ad-16f8a881d12d",
   "metadata": {},
   "outputs": [],
   "source": [
    "# qIDs\n",
    "qID = ['Gender', 'Age', 'Marital_Status', 'Country_Birth', 'Race']\n",
    "# Clean up the data\n",
    "p3b_data = p2c_data.iloc[numpy.isin(p2c_data.Household_Income, [12, 13], invert=True),:].copy()\n",
    "\n",
    "raise Exception(\"Missing answer to 3(b)\")"
   ]
  },
  {
   "cell_type": "markdown",
   "id": "8a04efd8-9fcc-4edc-8cd8-ae9f5f3c558e",
   "metadata": {},
   "source": [
    "Run the following cell to print the outcomes of your code."
   ]
  },
  {
   "cell_type": "code",
   "execution_count": null,
   "id": "c649a034-c519-47ea-ac61-87d89f1d62b8",
   "metadata": {},
   "outputs": [],
   "source": [
    "fh = pyplot.figure()\n",
    "cts = p3b_data.Household_Income.value_counts(normalize=True)[list(range(1,11)) + [14, 15]]\n",
    "pyplot.bar(range(1,13), cts)\n",
    "# for presentation purposes.\n",
    "p3b_household_income_jerzy_changed = p3b_household_income_jerzy.copy()\n",
    "p3b_household_income_jerzy_changed.iloc[p3b_household_income_jerzy_changed == 14] = 11\n",
    "p3b_household_income_jerzy_changed.iloc[p3b_household_income_jerzy_changed == 15] = 12\n",
    "\n",
    "cts = p3b_household_income_jerzy_changed.value_counts(normalize=True)\n",
    "bh = pyplot.bar(cts.index,cts, .5)\n",
    "pyplot.xlabel('Household Income (Lower End x$1000)')\n",
    "pyplot.ylabel('Probability')\n",
    "pyplot.title('Distribution of Household Income')\n",
    "pyplot.legend({'Random Person', 'Bernelle Ellette Jerzy'})\n",
    "pyplot.xticks(range(1,13), labels=[0, 5, 10, 15, 20, 25, 35, 45, 55, 65, 75, 100], rotation=45);"
   ]
  },
  {
   "cell_type": "markdown",
   "id": "4a24468b-7636-41a5-b8a0-96113d18dd6c",
   "metadata": {},
   "source": [
    "---\n",
    "\n",
    "## (c) Anonymize the Table\n",
    "\n",
    "Let's generalize the table `p3b_data` further and examine what happens to the $t$-closeness guarantee.\n",
    "\n",
    "Write code that makes the following generalization on top of the previous generalization applied to `p3b_data`:\n",
    "- `Gender`: generalize the values to 3=\"Other\" only for records with property Race = 8\n",
    "\n",
    "Assign this new generalized version of the data to the variable `p3c_data`.\n",
    "\n",
    "**Make sure you don't directly edit the table `p3b_data` so to not affect the following parts/problems. For that, take a look at the function [`DataFrame.copy()`](https://pandas.pydata.org/docs/reference/api/pandas.DataFrame.copy.html)**.\n",
    "\n",
    "```python\n",
    "qID = ['Gender', 'Age', 'Marital_Status', 'Country_Birth', 'Race']\n",
    "```\n",
    "\n",
    "Did the privacy guarantee improve compared to before? What was the t-Closeness value before this generalization?\n",
    "\n",
    "Which equivalence classes have the worst EMD value?\n",
    "\n",
    "Replace the following code snippet with your answer:"
   ]
  },
  {
   "cell_type": "code",
   "execution_count": null,
   "id": "7ad7fdb3-91bf-4622-8855-9ccfb4c0928b",
   "metadata": {},
   "outputs": [],
   "source": [
    "# qIDs\n",
    "qID = ['Gender', 'Age', 'Marital_Status', 'Country_Birth', 'Race']\n",
    "# Start from the last cleaned table\n",
    "p3c_data = p3b_data.copy()\n",
    "\n",
    "raise Exception(\"Missing answer to 3(c)\")"
   ]
  },
  {
   "cell_type": "markdown",
   "id": "02308f83-d9fd-427d-98ca-1c9ce2298368",
   "metadata": {},
   "source": [
    "Run the following cell to print the outcomes of your code.\n",
    "\n",
    "The following code will use the function `EMD_ordered_distance()` to generate the following variables:\n",
    "- `p3c_t_prior`, `p3c_eqv_classes_prior`: The return values from the function using\n",
    "    - Table `p3b_data`,\n",
    "    - Sensitive attribute `Household_Income`, and\n",
    "    - Quasi-identifiers `['Gender', 'Age', 'Marital_Status', 'Country_Birth', 'Race']`.\n",
    "    - Sensitive attributes order: `[1, 2, 3, 4, 5, 6, 7, 8, 9, 10, 14, 15]`.\n",
    "- `p3c_t_post`, `p3c_eqv_classes_post`: The return values from the function using\n",
    "    - Table `p3c_data`,\n",
    "    - Sensitive attribute `Household_Income`, and\n",
    "    - Quasi-identifiers `['Gender', 'Age', 'Marital_Status', 'Country_Birth', 'Race']`.\n",
    "    - Sensitive attributes order: `[1, 2, 3, 4, 5, 6, 7, 8, 9, 10, 14, 15]`."
   ]
  },
  {
   "cell_type": "code",
   "execution_count": null,
   "id": "0d88ce1d-ca06-4234-b9b7-7f51e3c72d0f",
   "metadata": {},
   "outputs": [],
   "source": [
    "display(Markdown(\"**Prior to generalization**:\"))\n",
    "\n",
    "qID = ['Gender', 'Age', 'Marital_Status', 'Country_Birth', 'Race']\n",
    "SA = 'Household_Income'\n",
    "SA_order = [1, 2, 3, 4, 5, 6, 7, 8, 9, 10, 14, 15]\n",
    "p3c_t_prior, p3c_eqv_classes_prior = EMD_ordered_distance(p3b_data, qID, SA, SA_order)\n",
    "display(Markdown(f'The table p3b_data(Household_Income) is {p3c_t_prior:.4f}-Close (full qids)\\n'))\n",
    "display(p3c_eqv_classes_prior)\n",
    "\n",
    "print(f'The following are the equivalence classes of p3b_data with EMD={p3c_t_prior:.4f}\\n')\n",
    "display(p3c_eqv_classes_prior.loc[p3c_eqv_classes_prior.EMD == p3c_t_prior, :])\n",
    "\n",
    "\n",
    "display(Markdown(\"**Afrer generalization**:\"))\n",
    "\n",
    "qID = ['Gender', 'Age', 'Marital_Status', 'Country_Birth', 'Race']\n",
    "SA = 'Household_Income'\n",
    "SA_order = [1, 2, 3, 4, 5, 6, 7, 8, 9, 10, 14, 15]\n",
    "p3c_t_post, p3c_eqv_classes_post = EMD_ordered_distance(p3c_data, qID, SA, SA_order)\n",
    "display(Markdown(f'The table p3c_data(Household_Income) is {p3c_t_post:.4f}-Close (full qids)\\n'))\n",
    "display(p3c_eqv_classes_post)\n",
    "\n",
    "display(Markdown(f'The following are the equivalence classes of p3c_data with EMD={p3c_t_post:.4f}\\n'))\n",
    "display(p3c_eqv_classes_post.loc[p3c_eqv_classes_post.EMD == p3c_t_post, :])"
   ]
  },
  {
   "cell_type": "markdown",
   "id": "1aeeb78e-c193-4d29-8d38-0149f2c1aa5d",
   "metadata": {},
   "source": [
    "---\n",
    "\n",
    "## (d) Distribution of t?\n",
    "\n",
    "One way to visualize the utility-privacy tradeoff is as follows. The more we generalize, the less utility we have (even though $t$ improves). However, if we generalize a table in such a way that, for example, one equivalence class has $t=0.5$ and all other equivalence classes have $t=0.1$ (resulting in a best guarantee for the table of $t=0.5$) then perhaps there's a better generalization that would make the rest of the equivalence classes have a larger $t$ than $0.1$ (but still at most $0.5$), and thus provide the same $t$-closeness guarantee while potentially providing higher utility because that table is less generalized.\n",
    "\n",
    "In this part, we will look at the distribution of the EMD values for the different equivalence classes as a way to study this utility-privacy tradeoff.\n",
    "\n",
    "Write code that plots a histograms of the EMD values for the different equivalence classes (for the generalized table from part **3c**).\n",
    "\n",
    "Use $15$ bins in the histogram.\n",
    "\n",
    "Don't forget to label the axes and title the figure.\n",
    "\n",
    "Replace the following code snippet with your answer:"
   ]
  },
  {
   "cell_type": "code",
   "execution_count": null,
   "id": "f65e3405-b84e-4bd9-9ed2-fa8941ef55ec",
   "metadata": {},
   "outputs": [],
   "source": [
    "# Number of bins:\n",
    "bins=15\n",
    "\n",
    "raise Exception(\"Missing answer to 3(d)\")"
   ]
  },
  {
   "cell_type": "markdown",
   "id": "74b71bf9-3914-4965-a03f-97e9ae637527",
   "metadata": {},
   "source": [
    "### In this Markdown cell, answer the following question\n",
    "\n",
    "Based on the result, is our generalization a good generalization in terms of the utility-privacy tradeoff, in your opinion? Explain.\n",
    "\n",
    "***Place your answer here***"
   ]
  },
  {
   "cell_type": "markdown",
   "id": "eada1aae-426c-4950-817a-9fea7d8a4dc0",
   "metadata": {},
   "source": [
    "---\n",
    "\n",
    "## (e) Try Again?\n",
    "\n",
    "We now plot the distribution of household income globally and for Bernelle before and after the latest generalization.\n",
    "\n",
    "**This part has no code for you to write, just answer the question that follows.**"
   ]
  },
  {
   "cell_type": "code",
   "execution_count": null,
   "id": "c0a418b7-be8b-4d2b-96bc-831d15b52028",
   "metadata": {},
   "outputs": [],
   "source": [
    "# Start from the last cleaned table\n",
    "p5e_identities = p2d_identities.copy()\n",
    "\n",
    "# Merge genders for Race=8.\n",
    "# Setting the Gender for these rows to 3 = \"Person\"\n",
    "p5e_identities.loc[p5e_identities.Race==8, 'Gender'] = 3\n",
    "\n",
    "qID = ['Gender', 'Age', 'Marital_Status', 'Country_Birth', 'Race']\n",
    "\n",
    "p5e_reidentified_data = p5e_identities.dropna(subset=qID).merge(p3c_data)\n",
    "p5e_household_income_jerzy_new = p5e_reidentified_data.Household_Income[p5e_reidentified_data.Full_Name == 'Bernelle Ellette Jerzy']\n",
    "display(Markdown(f\"The list of `Household_Income` values for Bernelle is [{', '.join([str(item) for item in p5e_household_income_jerzy_new])}]\"))\n",
    "\n",
    "# Now plot\n",
    "\n",
    "fh = pyplot.figure()\n",
    "cts = p3c_data.Household_Income.value_counts(normalize=True)[list(range(1,11)) + [14, 15]]\n",
    "pyplot.bar(range(1,13), cts)\n",
    "\n",
    "cts = p3b_household_income_jerzy_changed.value_counts(normalize=True)\n",
    "bh = pyplot.bar(cts.index,cts, .7)\n",
    "\n",
    "# for presentation purposes.\n",
    "p3e_household_income_jerzy_new_changed = p5e_household_income_jerzy_new.copy()\n",
    "p3e_household_income_jerzy_new_changed.iloc[p5e_household_income_jerzy_new == 14] = 11\n",
    "p3e_household_income_jerzy_new_changed.iloc[p5e_household_income_jerzy_new == 15] = 12\n",
    "\n",
    "cts = p3e_household_income_jerzy_new_changed.value_counts(normalize=True)\n",
    "bh = pyplot.bar(cts.index,cts, .4)\n",
    "pyplot.xlabel('Household Income (Lower End x$1000)')\n",
    "pyplot.ylabel('Probability')\n",
    "pyplot.title('Distribution of Household Income')\n",
    "pyplot.legend({'Random Person', 'Bernelle Ellette Jerzy', 'Bernelle Ellette Jerzy After Generalization'})\n",
    "pyplot.xticks(range(1,13), labels=[0, 5, 10, 15, 20, 25, 35, 45, 55, 65, 75, 100], rotation=45);"
   ]
  },
  {
   "cell_type": "markdown",
   "id": "74a8b586-1d3e-446b-96c3-24f133768f0a",
   "metadata": {},
   "source": [
    "### In this Markdown cell, answer the following question\n",
    "\n",
    "Did we succeed decreasing the risk of disclosure? Explain.\n",
    "\n",
    "***Place your answer here***"
   ]
  },
  {
   "cell_type": "markdown",
   "id": "6fb73e54-fd61-41a4-96fc-895ca7990b15",
   "metadata": {},
   "source": [
    "---\n",
    "\n",
    "# Problem 4\n",
    "\n",
    "List all individuals and sources that you consulted with while working on this assignment.\n",
    "\n",
    "***Place your answer here***"
   ]
  }
 ],
 "metadata": {
  "kernelspec": {
   "display_name": "Python 3 (ipykernel)",
   "language": "python",
   "name": "python3"
  },
  "language_info": {
   "codemirror_mode": {
    "name": "ipython",
    "version": 3
   },
   "file_extension": ".py",
   "mimetype": "text/x-python",
   "name": "python",
   "nbconvert_exporter": "python",
   "pygments_lexer": "ipython3",
   "version": "3.10.9"
  }
 },
 "nbformat": 4,
 "nbformat_minor": 5
}
